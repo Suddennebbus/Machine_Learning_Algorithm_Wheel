{
 "cells": [
  {
   "cell_type": "code",
   "execution_count": 3,
   "metadata": {},
   "outputs": [],
   "source": [
    "import pandas as pd\n",
    "from numpy import *\n",
    "import time"
   ]
  },
  {
   "cell_type": "markdown",
   "metadata": {},
   "source": [
    "### 自定义函数实现AdaBoost\n",
    "- 包含函数\n",
    "    1. stumpClassify() 通过阈值对数据分类\n",
    "    2. buildStump() 生成单层决策树，需要调用stumpClassify()\n",
    "    3. adaBoostTrainDS() 训练出多个弱决策树分类器，需要调用buildStump() \n",
    "    4. adaClassify() 利用训练好的弱分类器分类数据\n",
    "    5. loadDataSet() 加载数据集"
   ]
  },
  {
   "cell_type": "markdown",
   "metadata": {},
   "source": [
    "#### 1. 构建单层决策树\n",
    "- 遍历数据集的每个特征：\n",
    "    - 遍历特征的每个步长：\n",
    "        - 遍历步长的每个阈值对比方式：\n",
    "            - 计算每次迭代的weightedError\n",
    "- 认为weightedError最小的点(特征，阈值，方式)是最佳决策点，以此构建一棵决策树桩(stump)"
   ]
  },
  {
   "cell_type": "code",
   "execution_count": 4,
   "metadata": {},
   "outputs": [],
   "source": [
    "#通过阈值对数据分类+1 -1\n",
    "#dimen为dataMat的列索引值，即特征位置；threshIneq为阈值对比方式，大于或小于\n",
    "def stumpClassify(dataMatrix,dimen,threshVal,threshIneq):\n",
    "    retArray=ones((shape(dataMatrix)[0],1))#注意，有两个()\n",
    "    #阈值的模式，将小于某一阈值的特征归类为-1\n",
    "    if threshIneq=='lt':#less than\n",
    "        retArray[dataMatrix[:,dimen]<=threshVal]=-1.0\n",
    "    #将大于某一阈值的特征归类为-1\n",
    "    else:#greater than\n",
    "        retArray[dataMatrix[:,dimen]>threshVal]=-1.0\n",
    "    return retArray\n",
    "\n",
    "#单层决策树生成函数\n",
    "#D为各样本权重,shape=(m,1);label为样本标签，shape=(1,m)\n",
    "def buildStump(dataArr,classLabels,D):\n",
    "#将数据集和标签列表转为矩阵形式\n",
    "    dataMatrix=mat(dataArr);labelMat=mat(classLabels).T\n",
    "    m,n=shape(dataMatrix)\n",
    "    #步长或区间总数 最优决策树信息 最优单层决策树预测结果\n",
    "    numSteps=10.0;bestStump={};bestClasEst=mat(zeros((m,1))) #注意，有两个()\n",
    "    #最小错误率初始化为+∞\n",
    "    minError=inf\n",
    "    \n",
    "    #遍历数据集的每个特征：遍历特征的每个步长：遍历步长的每个阈值对比方式\n",
    "    for i in range(n):\n",
    "        #找出列中特征值的最小值和最大值\n",
    "        rangeMin=dataMatrix[:,i].min();rangeMax=dataMatrix[:,i].max()\n",
    "        #求取步长大小或者说区间间隔\n",
    "        stepSize=(rangeMax-rangeMin)/numSteps\n",
    "        #遍历各个步长区间\n",
    "        for j in range(-1,int(numSteps)+1):\n",
    "            #两种阈值过滤模式\n",
    "            for inequal in ['lt','gt']:\n",
    "                threshVal=rangeMin+float(j)*stepSize\n",
    "                #选定阈值后，调用阈值过滤函数分类预测\n",
    "                predictedVals=\\\n",
    "                    stumpClassify(dataMatrix,i,threshVal,inequal)\n",
    "                #初始化错误向量\n",
    "                errArr=mat(ones((m,1)))\n",
    "                #将错误向量中分类正确项置0\n",
    "                errArr[predictedVals==labelMat]=0\n",
    "                #计算\"加权\"的错误率\n",
    "                weigthedError=D.T*errArr\n",
    "                #print (\"分割特征为第{0}个，分割阈值为{1}，分割方式为{2}，weight error为{3}\"\\\n",
    "                #      .format(i+1,threshVal,threshIneq,weightedErr))\n",
    "                if weigthedError<minError:\n",
    "                    minError=weigthedError\n",
    "                    bestClasEst=predictedVals.copy()\n",
    "                    bestStump['dim']=i\n",
    "                    bestStump['thresh']=threshVal\n",
    "                    bestStump['ineq']=inequal\n",
    "    #返回最佳单层决策树相关信息的字典，最小错误率，决策树预测输出结果\n",
    "    return bestStump,minError,bestClasEst"
   ]
  },
  {
   "cell_type": "code",
   "execution_count": 5,
   "metadata": {},
   "outputs": [
    {
     "data": {
      "text/plain": [
       "({'dim': 0, 'ineq': 'lt', 'thresh': 1.3}, matrix([[0.2]]), array([[-1.],\n",
       "        [ 1.],\n",
       "        [-1.],\n",
       "        [-1.],\n",
       "        [ 1.]]))"
      ]
     },
     "execution_count": 5,
     "metadata": {},
     "output_type": "execute_result"
    }
   ],
   "source": [
    "data=mat([[ 1. ,  2.1],[ 2. ,  1.1],[ 1.3,  1. ],[ 1. ,  1. ],[ 2. ,  1. ]])\n",
    "label=[1.0,1.0,-1.0,-1.0,1.0];D=mat(ones((5,1))/5)\n",
    "buildStump(array(data),array(label),D)"
   ]
  },
  {
   "cell_type": "markdown",
   "metadata": {},
   "source": [
    "#### 2. AdaBoost提升单层决策树效果\n",
    "- 样本初始权重D=1/m\n",
    "- 进入循环：(设置循环次数上限or错误率e=0为止)\n",
    "    - 将D带入buildStump，训练最佳决策树，得到本次迭代的最佳分类bestClass\n",
    "    - 计算汇集的分类结果aggClass(即，将每次最佳决策树分类结果bestClass\\*alpha相加)\n",
    "    - 根据当前的汇集分类错误率e，计算alpha，并更新样本权值D\n",
    "    - 直到达到循环次数上限或错误率e=0为止\n",
    "- 输出弱分类器集合(bestStump的集合)"
   ]
  },
  {
   "cell_type": "code",
   "execution_count": 6,
   "metadata": {},
   "outputs": [],
   "source": [
    "#label为样本标签，shape=(1,m)\n",
    "def adaBoostTrainDS(dataArr,classLabels,numIt=40):\n",
    "    weakClassArr=[];m=shape(dataArr)[0]\n",
    "    D=mat(ones((m,1))/m) #初始化样本权重\n",
    "    aggClassEst=mat(zeros((m,1)))\n",
    "    for i in range(numIt):\n",
    "        bestStump,error,classEst=buildStump(dataArr,classLabels,D)\n",
    "        alpha = float(0.5*log((1.0-error)/max(error,1e-16))) #max(error,1e-16)防止0误差的计算溢出\n",
    "        bestStump[\"alpha\"]=alpha\n",
    "        weakClassArr.append(bestStump)\n",
    "        #print (\"D:\",D.T,\"\\n\",\"predClass:\",classEst.T)\n",
    "        \n",
    "        #为下一次迭代更新D(很关键，矩阵运算容易写错！)\n",
    "        expon=multiply(-1*alpha*mat(classLabels).T,classEst) #shape(5,1)*shape(5,1)对应元素相乘，得到各样本的-alpha*yi*G(xi)\n",
    "        D=multiply(D,exp(expon)) #shape(5,1)*shape(5,1)对应元素相乘，\n",
    "        D=D/D.sum() #得到各样本更新后的wi\n",
    "        \n",
    "        #计算汇集的分类结果aggClassEst(即，将每次最佳决策树分类结果bestClass*alpha相加)\n",
    "        aggClassEst+=alpha*classEst\n",
    "        #print(\"aggClassEst:\",aggClassEst.T)\n",
    "        aggErrors=multiply(sign(aggClassEst)!=mat(classLabels).T,ones((m,1)))\n",
    "        errorRate=aggErrors.sum()/m\n",
    "        #print(\"total error:\",errorRate)\n",
    "        if errorRate==0.0:\n",
    "            break\n",
    "    return weakClassArr,errorRate,aggClassEst"
   ]
  },
  {
   "cell_type": "code",
   "execution_count": 12,
   "metadata": {},
   "outputs": [
    {
     "data": {
      "text/plain": [
       "([{'alpha': 0.6931471805599453, 'dim': 0, 'ineq': 'lt', 'thresh': 1.3},\n",
       "  {'alpha': 0.9729550745276565, 'dim': 1, 'ineq': 'lt', 'thresh': 1.0},\n",
       "  {'alpha': 0.8958797346140273, 'dim': 0, 'ineq': 'lt', 'thresh': 0.9}],\n",
       " 0.0)"
      ]
     },
     "execution_count": 12,
     "metadata": {},
     "output_type": "execute_result"
    }
   ],
   "source": [
    "data=mat([[ 1. ,  2.1],[ 2. ,  1.1],[ 1.3,  1. ],[ 1. ,  1. ],[ 2. ,  1. ]])\n",
    "label=[1.0,1.0,-1.0,-1.0,1.0];D=mat(ones((5,1))/5)\n",
    "adaBoostTrainDS(array(data),array(label))"
   ]
  },
  {
   "cell_type": "markdown",
   "metadata": {},
   "source": [
    "#### 3. 使用adaboost+单层决策树模型分类数据"
   ]
  },
  {
   "cell_type": "code",
   "execution_count": 7,
   "metadata": {},
   "outputs": [],
   "source": [
    "def adaClassify(datToClass,classifierArr):\n",
    "    dataMatrix=mat(datToClass)\n",
    "    m=shape(dataMatrix)[0]\n",
    "    aggClassEst=mat(zeros((m,1))) #初始化最终分类器\n",
    "    for i in range(len(classifierArr)):#遍历各个弱分类器\n",
    "        #每一个弱分类器对测试数据进行预测分类\n",
    "        classEst=stumpClassify(dataMatrix,classifierArr[i]['dim'],\\\n",
    "                                classifierArr[i]['thresh'],\n",
    "                                classifierArr[i]['ineq'])\n",
    "        #对各个分类器的预测结果进行加权累加\n",
    "        aggClassEst+=classifierArr[i]['alpha']*classEst\n",
    "        #print('aggClassEst',aggClassEst)\n",
    "    #通过sign函数根据结果大于或小于0预测出+1或-1\n",
    "    return sign(aggClassEst)"
   ]
  },
  {
   "cell_type": "code",
   "execution_count": 9,
   "metadata": {},
   "outputs": [
    {
     "name": "stdout",
     "output_type": "stream",
     "text": [
      "\n",
      "\n"
     ]
    },
    {
     "data": {
      "text/plain": [
       "matrix([[-1.]])"
      ]
     },
     "execution_count": 9,
     "metadata": {},
     "output_type": "execute_result"
    }
   ],
   "source": [
    "#训练集，特征和标签\n",
    "data=[[ 1. ,  2.1],[ 2. ,  1.1],[ 1.3,  1. ],[ 1. ,  1. ],[ 2. ,  1. ]]\n",
    "label=[1.0,1.0,-1.0,-1.0,1.0];D=mat(ones((5,1))/5)\n",
    "\n",
    "#训练弱分类器，得到各个弱分类器的最优分类特征、阈值、方式、alpha、bestClass\n",
    "weakClassifierArr,trainErrorRate,aggClassEst=adaBoostTrainDS(array(data),array(label))\n",
    "print('\\n')\n",
    "#用训练好的弱分类器预测测试集样本类别\n",
    "adaClassify([[0,0]],weakClassifierArr)"
   ]
  },
  {
   "cell_type": "markdown",
   "metadata": {},
   "source": [
    "### 使用自定义AdaBoost预测疝病马是否存活\n",
    "- 读取数据、处理数据\n",
    "- 使用adaBoostTrainDS训练弱分类器\n",
    "- 使用adaClassify预测疝病马是否存活"
   ]
  },
  {
   "cell_type": "code",
   "execution_count": 10,
   "metadata": {},
   "outputs": [],
   "source": [
    "#加载数据函数\n",
    "def loadDataSet(filename):\n",
    "    dataMat=[];labelMat=[]\n",
    "    numFeat=len(open(filename).readline().split('\\t'))\n",
    "    fr=open(filename)\n",
    "    for line in fr.readlines():\n",
    "        lineArr=[]\n",
    "        curLine=line.strip().split('\\t')\n",
    "        for i in range(numFeat-1):\n",
    "            lineArr.append(float(curLine[i]))\n",
    "        dataMat.append(lineArr)\n",
    "        labelMat.append(float(curLine[-1]))\n",
    "    return dataMat,labelMat"
   ]
  },
  {
   "cell_type": "code",
   "execution_count": 11,
   "metadata": {},
   "outputs": [
    {
     "data": {
      "text/plain": [
       "((299, 21), (299,))"
      ]
     },
     "execution_count": 11,
     "metadata": {},
     "output_type": "execute_result"
    }
   ],
   "source": [
    "#加载数据\n",
    "dataArr,labelArr=loadDataSet(r'D:\\DM\\python\\data\\MLiA_SourceCode\\machinelearninginaction\\Ch07\\horseColicTraining2.txt')\n",
    "shape(dataArr),shape(labelArr)"
   ]
  },
  {
   "cell_type": "code",
   "execution_count": 13,
   "metadata": {},
   "outputs": [],
   "source": [
    "#训练弱分类器\n",
    "classifierArr,trainErrorRate,aggClassEst=adaBoostTrainDS(dataArr,labelArr,10)"
   ]
  },
  {
   "cell_type": "code",
   "execution_count": 14,
   "metadata": {},
   "outputs": [],
   "source": [
    "#用训练好的弱分类器分类测试样本\n",
    "dataTest,labelTest=loadDataSet(r'D:\\DM\\python\\data\\MLiA_SourceCode\\machinelearninginaction\\Ch07\\horseColicTest2.txt')\n",
    "predictLabels=adaClassify(dataTest,classifierArr)"
   ]
  },
  {
   "cell_type": "code",
   "execution_count": 15,
   "metadata": {},
   "outputs": [
    {
     "name": "stdout",
     "output_type": "stream",
     "text": [
      "测试集分类错误率为24.0%\n"
     ]
    }
   ],
   "source": [
    "#计算分类准确率\n",
    "errArr=mat(ones((len(labelTest),1)))\n",
    "errArr[predictLabels==mat(labelTest).T]=0\n",
    "errorRate=errArr.sum()/len(labelTest)\n",
    "print(\"测试集分类错误率为{0}%\".format(round(errorRate*100),2))"
   ]
  },
  {
   "cell_type": "code",
   "execution_count": 18,
   "metadata": {},
   "outputs": [],
   "source": [
    "def horseColic(numWeakClassifier):\n",
    "    #读取训练集、测试集\n",
    "    dataArr,labelArr=loadDataSet(r'D:\\DM\\python\\data\\MLiA_SourceCode\\machinelearninginaction\\Ch07\\horseColicTraining2.txt')\n",
    "    dataTest,labelTest=loadDataSet(r'D:\\DM\\python\\data\\MLiA_SourceCode\\machinelearninginaction\\Ch07\\horseColicTest2.txt')\n",
    "    #训练弱分类器\n",
    "    classifierArr,trainErrorRate,aggClassEst=adaBoostTrainDS(dataArr,labelArr,numWeakClassifier)\n",
    "    #用训练好的弱分类器分类测试样本\n",
    "    predictLabels=adaClassify(dataTest,classifierArr)\n",
    "    #计算分类准确率\n",
    "    errArr=mat(ones((len(labelTest),1)))\n",
    "    errArr[predictLabels==mat(labelTest).T]=0\n",
    "    testErrorRate=errArr.sum()/len(labelTest)\n",
    "    return numWeakClassifier,trainErrorRate,testErrorRate"
   ]
  },
  {
   "cell_type": "code",
   "execution_count": 19,
   "metadata": {},
   "outputs": [
    {
     "name": "stdout",
     "output_type": "stream",
     "text": [
      "======================================================================\n",
      "弱分类器个数为1时，训练集分类错误率为28.43%，测试集分类错误率为26.87%\n",
      "======================================================================\n",
      "弱分类器个数为10时，训练集分类错误率为23.08%，测试集分类错误率为23.88%\n",
      "======================================================================\n",
      "弱分类器个数为100时，训练集分类错误率为19.06%，测试集分类错误率为22.39%\n",
      "======================================================================\n",
      "弱分类器个数为500时，训练集分类错误率为15.72%，测试集分类错误率为25.37%\n",
      "======================================================================\n",
      "弱分类器个数为1000时，训练集分类错误率为14.05%，测试集分类错误率为31.34%\n",
      "======================================================================\n"
     ]
    }
   ],
   "source": [
    "for i in [1,10,100,500,1000]:\n",
    "    numWeakClassifier,trainErrorRate,testErrorRate=horseColic(i)\n",
    "    print(\"=\".center(70,\"=\"))\n",
    "    print(\"弱分类器个数为{0}时，训练集分类错误率为{1}%，测试集分类错误率为{2}%\"\\\n",
    "          .format(i,round(trainErrorRate*100,2),round(testErrorRate*100,2)))\n",
    "print(\"=\".center(70,\"=\"))"
   ]
  },
  {
   "cell_type": "markdown",
   "metadata": {},
   "source": [
    "- **分析**\n",
    "    - 并不是弱分类器越多越好，太多容易过拟合，使得测试集准确率较低，太少容易欠拟合，使得训练集准确率较低，**因此adaboost的弱分类器个数是一个需要斟酌的参数**"
   ]
  },
  {
   "cell_type": "markdown",
   "metadata": {},
   "source": [
    "### 绘制ROC曲线衡量分类性能"
   ]
  },
  {
   "cell_type": "code",
   "execution_count": 20,
   "metadata": {},
   "outputs": [],
   "source": [
    "#aggClassEst为每次训练累加的预测值，是sign()之前的值，表示预测强度,array格式,shape=(m,1)\n",
    "#classLabels是样本真实类别,array格式,shape=(m,1)\n",
    "def plotROC(aggClassEst,classLabels):\n",
    "    import matplotlib.pyplot as plt\n",
    "    plt.rcParams['font.sans-serif']=['SimHei']\n",
    "    plt.rcParams['axes.unicode_minus'] = False\n",
    "    \n",
    "    cur=(1.0,1.0) #初始光标，从(1,1)开始，表示假设样本全被预测为正\n",
    "    ySum=0.0 #用于计算AUC，X轴每移动一步，ySum就加一次当时的y值，相当于计算曲线下矩形面积\n",
    "    numPosClass=sum(classLabels==1.0) #真实类别为1的样本数\n",
    "    yStep=1/float(numPosClass) # ROC y轴表示真阳率(正例的召回率)\n",
    "    xStep=1/float(len(classLabels)-numPosClass)# ROC x轴表示假阳率(真阴率，反例的召回率)\n",
    "    sortedIndex=argsort(aggClassEst.T) #返回aggClassEst中元素升序排序时各元素所对应的索引值\n",
    "    \n",
    "    fig=plt.figure(figsize=(8,8))\n",
    "    fig.clf() #clear画布\n",
    "    ax=plt.subplot(111)\n",
    "    \n",
    "    \"\"\"\n",
    "    按升序遍历aggClassEst(累加预测值)，每次循环中，认为当前aggClassEst[index]是分类阈值\n",
    "    <=阈值时，认为是-1.0类；>阈值时认为是+1.0类\n",
    "    将该阈值样本的假设类别-1.0与该阈值样本的真实类别classLabels[index]对比\n",
    "    若真实类别为1.0,则拉低真阳率(漏报率)；若真实类别为-1.0,则拉低假阳率(误报率)\n",
    "    \"\"\"\n",
    "    for index in sortedIndex.tolist()[0]:\n",
    "        #若判别为最小的样本真实为正例(说明正例被错判,FN)，则减小Y值(TP/(TP+FN))\n",
    "        if classLabels[index]==1.0: \n",
    "            delX=0.0;delY=yStep\n",
    "        #若判别为最小的样本真实为反例(说明反例被对判,TN)，则减小X值(FP/(FP+TN))\n",
    "        else:\n",
    "            delX=xStep;delY=0.0\n",
    "            ySum+=cur[1] #x每移动一个xStep，ySum就叠加一个当时的y值，用于计算曲线下矩形面积\n",
    "        \n",
    "        ax.plot([cur[0],cur[0]-delX],[cur[1],cur[1]-delY],c='r') #绘制ROC曲线\n",
    "        cur=(cur[0]-delX,cur[1]-delY) #更新光标位置\n",
    "        \n",
    "    ax.plot([0,1],[0,1],'b--') #[0,1],[0,1]表示x,y值的一一对应关系,即(0,0)(1,1)两个点,并用线连接起来\n",
    "    plt.xlabel(\"假阳率\",fontsize=16,fontweight=\"bold\")\n",
    "    plt.ylabel(\"真阳率\",fontsize=16,fontweight=\"bold\")\n",
    "    plt.title(\"AdaBoost疝病马预测ROC曲线\",fontsize=20,fontweight=\"bold\")\n",
    "    ax.axis([0,1,0,1])\n",
    "    plt.show()\n",
    "    print(\"ROC曲线的AUC为:\",ySum*xStep)"
   ]
  },
  {
   "cell_type": "code",
   "execution_count": 21,
   "metadata": {},
   "outputs": [],
   "source": [
    "dataArr,labelArr=loadDataSet(r'D:\\DM\\python\\data\\MLiA_SourceCode\\machinelearninginaction\\Ch07\\horseColicTraining2.txt')\n",
    "classifierArr,trainErrorRate,aggClassEst=adaBoostTrainDS(dataArr,labelArr,50)"
   ]
  },
  {
   "cell_type": "code",
   "execution_count": 59,
   "metadata": {
    "collapsed": true
   },
   "outputs": [
    {
     "data": {
      "text/plain": [
       "[176,\n",
       " 35,\n",
       " 40,\n",
       " 192,\n",
       " 272,\n",
       " 49,\n",
       " 101,\n",
       " 16,\n",
       " 83,\n",
       " 181,\n",
       " 225,\n",
       " 44,\n",
       " 230,\n",
       " 172,\n",
       " 256,\n",
       " 170,\n",
       " 59,\n",
       " 179,\n",
       " 97,\n",
       " 168,\n",
       " 227,\n",
       " 244,\n",
       " 285,\n",
       " 296,\n",
       " 150,\n",
       " 239,\n",
       " 141,\n",
       " 295,\n",
       " 121,\n",
       " 45,\n",
       " 291,\n",
       " 46,\n",
       " 173,\n",
       " 43,\n",
       " 234,\n",
       " 73,\n",
       " 245,\n",
       " 246,\n",
       " 210,\n",
       " 86,\n",
       " 30,\n",
       " 134,\n",
       " 159,\n",
       " 48,\n",
       " 290,\n",
       " 109,\n",
       " 113,\n",
       " 133,\n",
       " 178,\n",
       " 204,\n",
       " 128,\n",
       " 108,\n",
       " 280,\n",
       " 219,\n",
       " 99,\n",
       " 110,\n",
       " 281,\n",
       " 80,\n",
       " 58,\n",
       " 252,\n",
       " 8,\n",
       " 292,\n",
       " 171,\n",
       " 200,\n",
       " 253,\n",
       " 229,\n",
       " 262,\n",
       " 123,\n",
       " 15,\n",
       " 64,\n",
       " 273,\n",
       " 249,\n",
       " 36,\n",
       " 261,\n",
       " 62,\n",
       " 203,\n",
       " 151,\n",
       " 207,\n",
       " 216,\n",
       " 0,\n",
       " 54,\n",
       " 91,\n",
       " 184,\n",
       " 140,\n",
       " 75,\n",
       " 177,\n",
       " 221,\n",
       " 70,\n",
       " 135,\n",
       " 78,\n",
       " 104,\n",
       " 209,\n",
       " 57,\n",
       " 72,\n",
       " 271,\n",
       " 34,\n",
       " 3,\n",
       " 117,\n",
       " 195,\n",
       " 297,\n",
       " 4,\n",
       " 19,\n",
       " 294,\n",
       " 241,\n",
       " 10,\n",
       " 242,\n",
       " 162,\n",
       " 270,\n",
       " 147,\n",
       " 238,\n",
       " 143,\n",
       " 31,\n",
       " 55,\n",
       " 93,\n",
       " 126,\n",
       " 237,\n",
       " 247,\n",
       " 37,\n",
       " 254,\n",
       " 286,\n",
       " 84,\n",
       " 68,\n",
       " 282,\n",
       " 18,\n",
       " 63,\n",
       " 164,\n",
       " 287,\n",
       " 174,\n",
       " 28,\n",
       " 186,\n",
       " 278,\n",
       " 39,\n",
       " 218,\n",
       " 167,\n",
       " 25,\n",
       " 258,\n",
       " 74,\n",
       " 196,\n",
       " 263,\n",
       " 274,\n",
       " 26,\n",
       " 232,\n",
       " 251,\n",
       " 131,\n",
       " 20,\n",
       " 56,\n",
       " 118,\n",
       " 188,\n",
       " 79,\n",
       " 13,\n",
       " 226,\n",
       " 66,\n",
       " 114,\n",
       " 17,\n",
       " 215,\n",
       " 124,\n",
       " 24,\n",
       " 41,\n",
       " 190,\n",
       " 160,\n",
       " 206,\n",
       " 156,\n",
       " 130,\n",
       " 265,\n",
       " 51,\n",
       " 82,\n",
       " 250,\n",
       " 266,\n",
       " 1,\n",
       " 268,\n",
       " 154,\n",
       " 65,\n",
       " 201,\n",
       " 298,\n",
       " 42,\n",
       " 269,\n",
       " 205,\n",
       " 193,\n",
       " 211,\n",
       " 33,\n",
       " 53,\n",
       " 127,\n",
       " 163,\n",
       " 7,\n",
       " 87,\n",
       " 9,\n",
       " 243,\n",
       " 106,\n",
       " 231,\n",
       " 146,\n",
       " 275,\n",
       " 220,\n",
       " 144,\n",
       " 96,\n",
       " 105,\n",
       " 180,\n",
       " 27,\n",
       " 90,\n",
       " 14,\n",
       " 102,\n",
       " 185,\n",
       " 198,\n",
       " 138,\n",
       " 187,\n",
       " 139,\n",
       " 217,\n",
       " 119,\n",
       " 32,\n",
       " 284,\n",
       " 259,\n",
       " 189,\n",
       " 264,\n",
       " 11,\n",
       " 212,\n",
       " 81,\n",
       " 88,\n",
       " 111,\n",
       " 112,\n",
       " 228,\n",
       " 129,\n",
       " 169,\n",
       " 222,\n",
       " 6,\n",
       " 255,\n",
       " 157,\n",
       " 60,\n",
       " 267,\n",
       " 94,\n",
       " 233,\n",
       " 155,\n",
       " 136,\n",
       " 236,\n",
       " 2,\n",
       " 52,\n",
       " 50,\n",
       " 23,\n",
       " 5,\n",
       " 95,\n",
       " 276,\n",
       " 240,\n",
       " 22,\n",
       " 132,\n",
       " 166,\n",
       " 103,\n",
       " 145,\n",
       " 152,\n",
       " 92,\n",
       " 137,\n",
       " 120,\n",
       " 197,\n",
       " 148,\n",
       " 61,\n",
       " 161,\n",
       " 76,\n",
       " 12,\n",
       " 235,\n",
       " 71,\n",
       " 142,\n",
       " 38,\n",
       " 98,\n",
       " 199,\n",
       " 213,\n",
       " 288,\n",
       " 100,\n",
       " 158,\n",
       " 69,\n",
       " 279,\n",
       " 122,\n",
       " 260,\n",
       " 47,\n",
       " 224,\n",
       " 182,\n",
       " 107,\n",
       " 289,\n",
       " 115,\n",
       " 149,\n",
       " 125,\n",
       " 191,\n",
       " 223,\n",
       " 85,\n",
       " 277,\n",
       " 77,\n",
       " 67,\n",
       " 165,\n",
       " 21,\n",
       " 248,\n",
       " 183,\n",
       " 175,\n",
       " 257,\n",
       " 89,\n",
       " 214,\n",
       " 202,\n",
       " 283,\n",
       " 194,\n",
       " 208,\n",
       " 29,\n",
       " 116,\n",
       " 153,\n",
       " 293]"
      ]
     },
     "execution_count": 59,
     "metadata": {},
     "output_type": "execute_result"
    }
   ],
   "source": [
    "argsort(aggClassEst.T).tolist()[0]"
   ]
  },
  {
   "cell_type": "code",
   "execution_count": 44,
   "metadata": {},
   "outputs": [
    {
     "data": {
      "text/plain": [
       "((299, 1), (299, 1))"
      ]
     },
     "execution_count": 44,
     "metadata": {},
     "output_type": "execute_result"
    }
   ],
   "source": [
    "shape(aggClassEst),shape(mat(labelArr).T)"
   ]
  },
  {
   "cell_type": "code",
   "execution_count": 63,
   "metadata": {},
   "outputs": [
    {
     "data": {
      "image/png": "[encoded data removed]",
      "text/plain": [
       "<matplotlib.figure.Figure at 0x27b73977860>"
      ]
     },
     "metadata": {},
     "output_type": "display_data"
    },
    {
     "name": "stdout",
     "output_type": "stream",
     "text": [
      "ROC曲线的AUC为: 0.8953941870182941\n"
     ]
    }
   ],
   "source": [
    "plotROC(aggClassEst,mat(labelArr).T)"
   ]
  },
  {
   "cell_type": "markdown",
   "metadata": {},
   "source": [
    "### sklearn实现AdaBoost，用于疝病马数据集"
   ]
  },
  {
   "cell_type": "code",
   "execution_count": 1,
   "metadata": {},
   "outputs": [],
   "source": [
    "from sklearn.ensemble import AdaBoostClassifier"
   ]
  },
  {
   "cell_type": "code",
   "execution_count": 27,
   "metadata": {},
   "outputs": [],
   "source": [
    "dataArr,labelArr=loadDataSet(r'D:\\DM\\python\\data\\MLiA_SourceCode\\machinelearninginaction\\Ch07\\horseColicTraining2.txt')\n",
    "dataTest,labelTest=loadDataSet(r'D:\\DM\\python\\data\\MLiA_SourceCode\\machinelearninginaction\\Ch07\\horseColicTest2.txt')\n",
    "abc=AdaBoostClassifier(n_estimators=50)"
   ]
  },
  {
   "cell_type": "code",
   "execution_count": 28,
   "metadata": {},
   "outputs": [
    {
     "data": {
      "text/plain": [
       "0.7761194029850746"
      ]
     },
     "execution_count": 28,
     "metadata": {},
     "output_type": "execute_result"
    }
   ],
   "source": [
    "#训练弱分类器\n",
    "abc.fit(dataArr,labelArr)\n",
    "Y_pred=abc.predict(dataTest)\n",
    "abc.score(dataTest,labelTest)"
   ]
  },
  {
   "cell_type": "code",
   "execution_count": 33,
   "metadata": {},
   "outputs": [
    {
     "name": "stdout",
     "output_type": "stream",
     "text": [
      "[-1.  1.]\n",
      "[1. 1. 1. 1. 1. 1. 1. 1. 1. 1. 1. 1. 1. 1. 1. 1. 1. 1. 1. 1. 1. 1. 1. 1.\n",
      " 1. 1. 1. 1. 1. 1. 1. 1. 1. 1. 1. 1. 1. 1. 1. 1. 1. 1. 1. 1. 1. 1. 1. 1.\n",
      " 1. 1.]\n",
      "[0.28428094 0.33214454 0.39257738 0.40697642 0.41930599 0.40339763\n",
      " 0.4357326  0.42456092 0.44568626 0.42683673 0.45293997 0.45518735\n",
      " 0.4225583  0.43627423 0.43044037 0.42723727 0.4744538  0.431832\n",
      " 0.44713836 0.44962627 0.46277843 0.43343921 0.43638023 0.47462149\n",
      " 0.45972328 0.46639559 0.43662019 0.42964436 0.43240759 0.44019402\n",
      " 0.48131686 0.48714723 0.47491754 0.45261708 0.45541079 0.45172395\n",
      " 0.44629907 0.4741625  0.47014168 0.45891498 0.44262397 0.48395967\n",
      " 0.4574864  0.45985565 0.45594619 0.45687237 0.45398568 0.46546841\n",
      " 0.47404671 0.45379753]\n"
     ]
    }
   ],
   "source": [
    "#返回模型属性\n",
    "print (abc.classes_) #返回类别标签\n",
    "print (abc.estimator_weights_ ) #返回训练得到的各分类器权重 alpham\n",
    "print (abc.estimator_errors_)  #返回训练得到的各分类器分类误差\n",
    "#print (abc.estimators_) #返回训练得到的弱分类器，列表格式"
   ]
  },
  {
   "cell_type": "code",
   "execution_count": null,
   "metadata": {},
   "outputs": [],
   "source": []
  }
 ],
 "metadata": {
  "kernelspec": {
   "display_name": "Python 3",
   "language": "python",
   "name": "python3"
  },
  "language_info": {
   "codemirror_mode": {
    "name": "ipython",
    "version": 3
   },
   "file_extension": ".py",
   "mimetype": "text/x-python",
   "name": "python",
   "nbconvert_exporter": "python",
   "pygments_lexer": "ipython3",
   "version": "3.6.4"
  }
 },
 "nbformat": 4,
 "nbformat_minor": 2
}
