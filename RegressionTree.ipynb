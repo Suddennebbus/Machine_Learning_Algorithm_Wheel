{
 "cells": [
  {
   "cell_type": "code",
   "execution_count": 1,
   "metadata": {},
   "outputs": [],
   "source": [
    "import pandas as pd\n",
    "from numpy import *\n",
    "import matplotlib.pyplot as plt\n",
    "plt.rcParams['font.sans-serif']=['SimHei']\n",
    "plt.rcParams['axes.unicode_minus'] = False"
   ]
  },
  {
   "cell_type": "markdown",
   "metadata": {},
   "source": [
    "### 1.1 回归树的构建\n",
    "- 叶节点是一个值：当前叶子所有样本标签均值\n",
    "- 误差衡量：总方差，表示一组数据的混乱度，是本组所有数据与这组数据均值之差的平方和"
   ]
  },
  {
   "cell_type": "markdown",
   "metadata": {},
   "source": [
    "**基础函数**"
   ]
  },
  {
   "cell_type": "code",
   "execution_count": 2,
   "metadata": {},
   "outputs": [],
   "source": [
    "#数据读取\n",
    "def loadDataSet(filename):\n",
    "    dataMat=[]\n",
    "    fr=open(filename,'r')\n",
    "    for line in fr.readlines():\n",
    "        curLine=line.strip().split('\\t')\n",
    "        fltLine=list(map(float,curLine)) #将curLine各元素转换为float类型\n",
    "        dataMat.append(fltLine)\n",
    "    return mat(dataMat)\n",
    "\n",
    "#二分数据\n",
    "def binSplitDataSet(dataset,feat,val):\n",
    "    mat0=dataset[nonzero(dataset[:,feat]>val)[0],:] #数组过滤选择特征大于指定值的数据\n",
    "    mat1=dataset[nonzero(dataset[:,feat]<=val)[0],:] #数组过滤选择特征小于指定值的数据\n",
    "    return mat0,mat1"
   ]
  },
  {
   "cell_type": "code",
   "execution_count": 3,
   "metadata": {},
   "outputs": [],
   "source": [
    "#定义回归树的叶子(该叶子上各样本标签的均值)\n",
    "def regLeaf(dataset):\n",
    "    return mean(dataset[:,-1])\n",
    "\n",
    "#定义连续数据的混乱度(总方差，即连续数据的混乱度=(该组各数据-该组数据均值)**2，即方差*样本数)）\n",
    "def regErr(dataset):\n",
    "    return var(dataset[:-1])*shape(dataset)[0]"
   ]
  },
  {
   "cell_type": "markdown",
   "metadata": {},
   "source": [
    "**最佳特征/特征值选择函数**\n",
    "- 逻辑\n",
    "    - 对每个特征\n",
    "        - 对每个特征值\n",
    "            - 将数据切成两份\n",
    "            - 计算切分后数据的误差(数据的混乱度)\n",
    "            - 如果当前误差(混乱度)小于当前最小误差(混乱度)，那么将当前切分点设定为最佳切分点，并更新最小误差\n",
    "    - 返回最佳切分特征和阈值(最佳切分特征值)"
   ]
  },
  {
   "cell_type": "code",
   "execution_count": 4,
   "metadata": {},
   "outputs": [],
   "source": [
    "#最佳特征以及最佳特征值选择函数\n",
    "#leafType为叶节点取值，默认为regleaf，即取样本标签均值，对于模型树，叶节点是一个线性模型\n",
    "#errType为数据误差(混乱度)计算方式，默认为regErr，总方差\n",
    "#ops[0]为以最佳特征及特征值切分数据前后，数据混乱度的变化阈值，若小于该阈值，不切分\n",
    "#ops[1]为切分后两块数据的最少样本数，若少于该值，不切分\n",
    "#可以预想，回归树形状对ops[0],ops[1]很敏感，若这两个值过小，回归树会很臃肿，过拟合\n",
    "def chooseBestSplit(dataset,leafType=regLeaf,errType=regErr,ops=(1,4)):\n",
    "    tolS=ops[0];tolN=ops[1];m,n=shape(dataset)\n",
    "    S=errType(dataset);bestS=inf;beatIndex=0;bestVal=0\n",
    "    if len(set(dataset[:,-1].T.tolist()[0]))==1: #若只有一个类别\n",
    "        return None,leafType(dataset)\n",
    "    for featIndex in range(n-1):\n",
    "        for splitVal in set(dataset[:,featIndex].T.tolist()[0]):\n",
    "            mat0,mat1=binSplitDataSet(dataset,featIndex,splitVal)\n",
    "            #若切分后两块数据的最少样本数少于设定值，不切分\n",
    "            if (shape(mat0)[0]<tolN) or (shape(mat1)[0]<tolN): \n",
    "                continue\n",
    "            newS=errType(mat0)+errType(mat1)\n",
    "            if newS<bestS:\n",
    "                bestIndex=featIndex;bestVal=splitVal;bestS=newS\n",
    "    #若以最佳特征及特征值切分后的数据混乱度与原数据混乱度差值小于阈值，不切分\n",
    "    if (S-bestS)<tolS:\n",
    "        return None,leafType(dataset)\n",
    "    mat0,mat1=binSplitDataSet(dataset,bestIndex,bestVal)\n",
    "    #若以最佳特征及特征值切分后两块数据的最少样本数少于设定值，不切分\n",
    "    if (shape(mat0)[0]<tolN) or (shape(mat1)[0]<tolN):\n",
    "        return None,leafType(dataset)\n",
    "    return bestIndex,bestVal"
   ]
  },
  {
   "cell_type": "markdown",
   "metadata": {},
   "source": [
    "**回归树构建函数**\n",
    "- 逻辑\n",
    "    - 找到最佳切分特征和最佳切分值\n",
    "    - 若特征不能再切分，则返回该结点值作为叶节点\n",
    "    - 以最佳切分值为界，执行二元切分，得到左右子树\n",
    "    - 对左子树调用自身(createTree)\n",
    "    - 对右子树调用自身(createTree)"
   ]
  },
  {
   "cell_type": "code",
   "execution_count": 5,
   "metadata": {},
   "outputs": [],
   "source": [
    "#构建回归树\n",
    "def createTree(dataset,leafType=regLeaf,errType=regErr,ops=(1,4)):\n",
    "    feat,val=chooseBestSplit(dataset,leafType,errType,ops)\n",
    "    if feat==None:\n",
    "        return val\n",
    "    regTree={}\n",
    "    regTree['spFeat']=feat\n",
    "    regTree['spVal']=val\n",
    "    lSet,rSet=binSplitDataSet(dataset,feat,val)\n",
    "    regTree['left']=createTree(lSet,leafType,errType,ops)\n",
    "    regTree['right']=createTree(rSet,leafType,errType,ops)\n",
    "    return regTree"
   ]
  },
  {
   "cell_type": "markdown",
   "metadata": {},
   "source": [
    "**测试**"
   ]
  },
  {
   "cell_type": "code",
   "execution_count": 6,
   "metadata": {},
   "outputs": [
    {
     "data": {
      "text/plain": [
       "{'left': 1.0180967672413792,\n",
       " 'right': -0.04465028571428572,\n",
       " 'spFeat': 0,\n",
       " 'spVal': 0.48813}"
      ]
     },
     "execution_count": 6,
     "metadata": {},
     "output_type": "execute_result"
    }
   ],
   "source": [
    "dataMat1=loadDataSet(r'D:\\DM\\python\\data\\MLiA_SourceCode\\machinelearninginaction\\Ch09\\ex00.txt')\n",
    "regTree1=createTree(dataMat1)\n",
    "regTree1"
   ]
  },
  {
   "cell_type": "code",
   "execution_count": 7,
   "metadata": {},
   "outputs": [
    {
     "data": {
      "text/plain": [
       "{'left': {'left': {'left': 3.9787303333333335,\n",
       "   'right': 3.12968256,\n",
       "   'spFeat': 1,\n",
       "   'spVal': 0.845148},\n",
       "  'right': 1.980035071428571,\n",
       "  'spFeat': 1,\n",
       "  'spVal': 0.582002},\n",
       " 'right': {'left': 1.0289583666666666,\n",
       "  'right': -0.023838155555555553,\n",
       "  'spFeat': 1,\n",
       "  'spVal': 0.197834},\n",
       " 'spFeat': 1,\n",
       " 'spVal': 0.39435}"
      ]
     },
     "execution_count": 7,
     "metadata": {},
     "output_type": "execute_result"
    }
   ],
   "source": [
    "dataMat2=loadDataSet(r'D:\\DM\\python\\data\\MLiA_SourceCode\\machinelearninginaction\\Ch09\\ex0.txt')\n",
    "regTree2=createTree(dataMat2,ops=(1,4))\n",
    "regTree2"
   ]
  },
  {
   "cell_type": "code",
   "execution_count": 8,
   "metadata": {},
   "outputs": [
    {
     "data": {
      "text/plain": [
       "Text(0.5,1,'regTree2原始数据分布')"
      ]
     },
     "execution_count": 8,
     "metadata": {},
     "output_type": "execute_result"
    },
    {
     "data": {
      "image/png": "[encoded data removed]",
      "text/plain": [
       "<matplotlib.figure.Figure at 0x16a7aa206a0>"
      ]
     },
     "metadata": {},
     "output_type": "display_data"
    }
   ],
   "source": [
    "fig=plt.figure(figsize=(12,6))\n",
    "ax1=fig.add_subplot(121)\n",
    "ax1.scatter(dataMat1[:,0].flatten().A[0],dataMat1[:,1].flatten().A[0])\n",
    "plt.title('regTree1原始数据分布',fontsize=18)\n",
    "ax2=fig.add_subplot(122)\n",
    "ax2.scatter(dataMat2[:,1].flatten().A[0],dataMat2[:,2].flatten().A[0])\n",
    "plt.title('regTree2原始数据分布',fontsize=18)"
   ]
  },
  {
   "cell_type": "markdown",
   "metadata": {},
   "source": [
    "- 可以看到，ex00原始数据分布为两类，regTree1回归树也有两个叶节点\n",
    "- 可以看到，ex0原始数据分布为五类，regTree2回归树也有五个叶节点"
   ]
  },
  {
   "cell_type": "markdown",
   "metadata": {},
   "source": [
    "### 1.2 回归树的剪枝\n",
    "**过拟合->剪枝**\n",
    "- 剪枝：通过降低决策树复杂度避免过拟合\n",
    "    - 预剪枝：在chooseBestSplit函数中的几个提前终止条件(切分样本小于阈值、混乱度减弱小于阈值)，都是预剪枝（参数敏感）\n",
    "    - 后剪枝：使用测试集对训练出的回归树进行剪枝（由于不需要用户指定，后剪枝是一种更为理想化的剪枝方法）\n",
    "- 后剪枝过程：对训练好的回归树，自上而下找到叶节点，用测试集来判断将这些叶节点合并是否能降低测试误差，若能，则合并\n",
    "- 逻辑\n",
    "    - 若存在任意子集是树，则该子集递归调用剪枝过程(直到所有子集都为叶节点)\n",
    "    - 计算当前两个叶节点合并后的误差(混乱度)\n",
    "    - 计算不合并的误差(混乱度)\n",
    "    - 若合并能降低误差，则将当前两个叶节点合并"
   ]
  },
  {
   "cell_type": "code",
   "execution_count": 9,
   "metadata": {},
   "outputs": [],
   "source": [
    "#判断是否是一棵树(字典)\n",
    "def isTree(obj):\n",
    "    return (type(obj).__name__=='dict')\n",
    "\n",
    "#得到树所有叶节点的均值\n",
    "def getMean(tree):\n",
    "    #若子树仍然是树，则递归调用getMeant直到叶节点\n",
    "    if isTree(tree['left']):\n",
    "        tree['left']=getMean(tree['left'])\n",
    "    if isTree(tree['right']):\n",
    "        tree['right']=getMean(tree['right'])\n",
    "    return (tree['left']+tree['right'])/2.0\n",
    "\n",
    "#剪枝函数：对训练好的回归树，自上而下找到叶节点，用测试集来判断将这些叶节点合并是否能降低测试误差，若能则合并\n",
    "def prune(tree,testData):\n",
    "    #若无测试数据，则直接返回树所有叶节点的均值(塌陷处理)\n",
    "    if shape(testData)[0]==0:\n",
    "        return getMean(tree)\n",
    "    #若存在任意子集是树，则将测试集按当前树的最佳切分特征和特征值切分(子集剪枝用)\n",
    "    if isTree(tree['left']) or isTree(tree['right']):\n",
    "        lSet,rSet=binSplitDataSet(testData,tree['spFeat'],tree['spVal'])\n",
    "    #若存在任意子集是树，则该子集递归调用剪枝过程(利用刚才切分好的训练集)\n",
    "    if isTree(tree['left']):\n",
    "        tree['left']=prune(tree['left'],lSet)\n",
    "    if isTree(tree['right']):\n",
    "        tree['right']=prune(tree['right'],rSet)\n",
    "    #若当前子集都是叶节点，则计算该二叶节点合并前后的误差，决定是否合并\n",
    "    if not isTree(tree['left']) and not isTree(tree['right']):\n",
    "        lSet,rSet=binSplitDataSet(testData,tree['spFeat'],tree['spVal'])\n",
    "        errNotMerge=sum(power(lSet[:,-1].T.tolist()[0]-tree['left'],2))+sum(power(rSet[:,-1].T.tolist()[0]-tree['right'],2))\n",
    "        treeMean=(tree['left']+tree['right'])/2.0\n",
    "        errMerge=sum(power(testData[:,-1].T.tolist()[0]-treeMean,2))\n",
    "        if errMerge<errNotMerge:\n",
    "            print(\"merging\")\n",
    "            return treeMean\n",
    "        else:\n",
    "            return tree\n",
    "    else:\n",
    "        return tree"
   ]
  },
  {
   "cell_type": "markdown",
   "metadata": {},
   "source": [
    "**测试**"
   ]
  },
  {
   "cell_type": "code",
   "execution_count": 10,
   "metadata": {
    "scrolled": true
   },
   "outputs": [
    {
     "data": {
      "text/plain": [
       "{'left': {'left': {'left': 92.5239915,\n",
       "   'right': 117.9732555,\n",
       "   'spFeat': 0,\n",
       "   'spVal': 0.965969},\n",
       "  'right': {'left': {'left': {'left': {'left': 96.11312898113208,\n",
       "      'right': 83.8429785,\n",
       "      'spFeat': 0,\n",
       "      'spVal': 0.740859},\n",
       "     'right': {'left': {'left': 107.12406899999999,\n",
       "       'right': {'left': 121.985343,\n",
       "        'right': {'left': {'left': 108.36455048148147,\n",
       "          'right': 101.965592,\n",
       "          'spFeat': 0,\n",
       "          'spVal': 0.582311},\n",
       "         'right': 113.67628066666667,\n",
       "         'spFeat': 0,\n",
       "         'spVal': 0.560301},\n",
       "        'spFeat': 0,\n",
       "        'spVal': 0.706961},\n",
       "       'spFeat': 0,\n",
       "       'spVal': 0.710234},\n",
       "      'right': 92.59851833333333,\n",
       "      'spFeat': 0,\n",
       "      'spVal': 0.548539},\n",
       "     'spFeat': 0,\n",
       "     'spVal': 0.729397},\n",
       "    'right': 110.38113949999999,\n",
       "    'spFeat': 0,\n",
       "    'spVal': 0.537834},\n",
       "   'right': 106.3486936,\n",
       "   'spFeat': 0,\n",
       "   'spVal': 0.531944},\n",
       "  'spFeat': 0,\n",
       "  'spVal': 0.958512},\n",
       " 'right': {'left': 12.50675925,\n",
       "  'right': {'left': -1.1461750000000006,\n",
       "   'right': {'left': -8.436749,\n",
       "    'right': {'left': {'left': {'left': 6.442925000000001,\n",
       "       'right': -18.064308,\n",
       "       'spFeat': 0,\n",
       "       'spVal': 0.454312},\n",
       "      'right': {'left': 14.38417875,\n",
       "       'right': {'left': -14.0742665,\n",
       "        'right': {'left': 16.465350666666666,\n",
       "         'right': -3.3943440000000002,\n",
       "         'spFeat': 0,\n",
       "         'spVal': 0.382037},\n",
       "        'spFeat': 0,\n",
       "        'spVal': 0.391609},\n",
       "       'spFeat': 0,\n",
       "       'spVal': 0.412516},\n",
       "      'spFeat': 0,\n",
       "      'spVal': 0.437652},\n",
       "     'right': {'left': {'left': -20.176396,\n",
       "       'right': -19.065293285714286,\n",
       "       'spFeat': 0,\n",
       "       'spVal': 0.35679},\n",
       "      'right': {'left': 15.05929075,\n",
       "       'right': {'left': -16.393630625,\n",
       "        'right': {'left': 13.083094999999998,\n",
       "         'right': {'left': {'left': {'left': {'left': {'left': {'left': 3.919251,\n",
       "               'right': {'left': {'left': {'left': -9.601409499999999,\n",
       "                  'right': -16.5395925,\n",
       "                  'spFeat': 0,\n",
       "                  'spVal': 0.228751},\n",
       "                 'right': {'left': 17.4634,\n",
       "                  'right': -3.934612,\n",
       "                  'spFeat': 0,\n",
       "                  'spVal': 0.222271},\n",
       "                 'spFeat': 0,\n",
       "                 'spVal': 0.228473},\n",
       "                'right': {'left': -14.443454000000001,\n",
       "                 'right': -2.6781805,\n",
       "                 'spFeat': 0,\n",
       "                 'spVal': 0.202161},\n",
       "                'spFeat': 0,\n",
       "                'spVal': 0.211633},\n",
       "               'spFeat': 0,\n",
       "               'spVal': 0.25807},\n",
       "              'right': 9.5773855,\n",
       "              'spFeat': 0,\n",
       "              'spVal': 0.193282},\n",
       "             'right': -12.1079725,\n",
       "             'spFeat': 0,\n",
       "             'spVal': 0.166765},\n",
       "            'right': -4.73111,\n",
       "            'spFeat': 0,\n",
       "            'spVal': 0.156067},\n",
       "           'right': {'left': -8.523085000000002,\n",
       "            'right': {'left': {'left': {'left': 4.794635749999999,\n",
       "               'right': 8.796786666666666,\n",
       "               'spFeat': 0,\n",
       "               'spVal': 0.10796},\n",
       "              'right': -0.18951080000000003,\n",
       "              'spFeat': 0,\n",
       "              'spVal': 0.084661},\n",
       "             'right': {'left': -8.4315975,\n",
       "              'right': 7.537745999999999,\n",
       "              'spFeat': 0,\n",
       "              'spVal': 0.044737},\n",
       "             'spFeat': 0,\n",
       "             'spVal': 0.055862},\n",
       "            'spFeat': 0,\n",
       "            'spVal': 0.126833},\n",
       "           'spFeat': 0,\n",
       "           'spVal': 0.131833},\n",
       "          'right': 0.6455060000000001,\n",
       "          'spFeat': 0,\n",
       "          'spVal': 0.028546},\n",
       "         'spFeat': 0,\n",
       "         'spVal': 0.264926},\n",
       "        'spFeat': 0,\n",
       "        'spVal': 0.284794},\n",
       "       'spFeat': 0,\n",
       "       'spVal': 0.324274},\n",
       "      'spFeat': 0,\n",
       "      'spVal': 0.335182},\n",
       "     'spFeat': 0,\n",
       "     'spVal': 0.373501},\n",
       "    'spFeat': 0,\n",
       "    'spVal': 0.455761},\n",
       "   'spFeat': 0,\n",
       "   'spVal': 0.463241},\n",
       "  'spFeat': 0,\n",
       "  'spVal': 0.467383},\n",
       " 'spFeat': 0,\n",
       " 'spVal': 0.499171}"
      ]
     },
     "execution_count": 10,
     "metadata": {},
     "output_type": "execute_result"
    }
   ],
   "source": [
    "#构建回归树，可以看到，该回归树非常臃肿，过拟合\n",
    "dataMat3=loadDataSet(r'D:\\DM\\python\\data\\MLiA_SourceCode\\machinelearninginaction\\Ch09\\ex2.txt')\n",
    "regTree3=createTree(dataMat3,ops=(1,2))\n",
    "regTree3"
   ]
  },
  {
   "cell_type": "code",
   "execution_count": 11,
   "metadata": {
    "scrolled": true
   },
   "outputs": [
    {
     "name": "stdout",
     "output_type": "stream",
     "text": [
      "merging\n",
      "merging\n",
      "merging\n",
      "merging\n",
      "merging\n",
      "merging\n",
      "merging\n",
      "merging\n"
     ]
    },
    {
     "data": {
      "text/plain": [
       "{'left': {'left': 105.2486235,\n",
       "  'right': {'left': {'left': {'left': {'left': 96.11312898113208,\n",
       "      'right': 83.8429785,\n",
       "      'spFeat': 0,\n",
       "      'spVal': 0.740859},\n",
       "     'right': {'left': {'left': 107.12406899999999,\n",
       "       'right': {'left': 121.985343,\n",
       "        'right': {'left': 105.16507124074073,\n",
       "         'right': 113.67628066666667,\n",
       "         'spFeat': 0,\n",
       "         'spVal': 0.560301},\n",
       "        'spFeat': 0,\n",
       "        'spVal': 0.706961},\n",
       "       'spFeat': 0,\n",
       "       'spVal': 0.710234},\n",
       "      'right': 92.59851833333333,\n",
       "      'spFeat': 0,\n",
       "      'spVal': 0.548539},\n",
       "     'spFeat': 0,\n",
       "     'spVal': 0.729397},\n",
       "    'right': 110.38113949999999,\n",
       "    'spFeat': 0,\n",
       "    'spVal': 0.537834},\n",
       "   'right': 106.3486936,\n",
       "   'spFeat': 0,\n",
       "   'spVal': 0.531944},\n",
       "  'spFeat': 0,\n",
       "  'spVal': 0.958512},\n",
       " 'right': {'left': 12.50675925,\n",
       "  'right': {'left': -1.1461750000000006,\n",
       "   'right': {'left': -8.436749,\n",
       "    'right': {'left': {'left': -5.8106915,\n",
       "      'right': {'left': 14.38417875,\n",
       "       'right': -3.7693815833333337,\n",
       "       'spFeat': 0,\n",
       "       'spVal': 0.412516},\n",
       "      'spFeat': 0,\n",
       "      'spVal': 0.437652},\n",
       "     'right': {'left': {'left': -20.176396,\n",
       "       'right': -19.065293285714286,\n",
       "       'spFeat': 0,\n",
       "       'spVal': 0.35679},\n",
       "      'right': {'left': 15.05929075,\n",
       "       'right': {'left': -16.393630625,\n",
       "        'right': {'left': 13.083094999999998,\n",
       "         'right': {'left': {'left': {'left': {'left': {'left': {'left': 3.919251,\n",
       "               'right': {'left': {'left': {'left': -9.601409499999999,\n",
       "                  'right': -16.5395925,\n",
       "                  'spFeat': 0,\n",
       "                  'spVal': 0.228751},\n",
       "                 'right': 6.764394,\n",
       "                 'spFeat': 0,\n",
       "                 'spVal': 0.228473},\n",
       "                'right': {'left': -14.443454000000001,\n",
       "                 'right': -2.6781805,\n",
       "                 'spFeat': 0,\n",
       "                 'spVal': 0.202161},\n",
       "                'spFeat': 0,\n",
       "                'spVal': 0.211633},\n",
       "               'spFeat': 0,\n",
       "               'spVal': 0.25807},\n",
       "              'right': 9.5773855,\n",
       "              'spFeat': 0,\n",
       "              'spVal': 0.193282},\n",
       "             'right': -12.1079725,\n",
       "             'spFeat': 0,\n",
       "             'spVal': 0.166765},\n",
       "            'right': -4.73111,\n",
       "            'spFeat': 0,\n",
       "            'spVal': 0.156067},\n",
       "           'right': {'left': -8.523085000000002,\n",
       "            'right': {'left': 3.3031002041666664,\n",
       "             'right': {'left': -8.4315975,\n",
       "              'right': 7.537745999999999,\n",
       "              'spFeat': 0,\n",
       "              'spVal': 0.044737},\n",
       "             'spFeat': 0,\n",
       "             'spVal': 0.055862},\n",
       "            'spFeat': 0,\n",
       "            'spVal': 0.126833},\n",
       "           'spFeat': 0,\n",
       "           'spVal': 0.131833},\n",
       "          'right': 0.6455060000000001,\n",
       "          'spFeat': 0,\n",
       "          'spVal': 0.028546},\n",
       "         'spFeat': 0,\n",
       "         'spVal': 0.264926},\n",
       "        'spFeat': 0,\n",
       "        'spVal': 0.284794},\n",
       "       'spFeat': 0,\n",
       "       'spVal': 0.324274},\n",
       "      'spFeat': 0,\n",
       "      'spVal': 0.335182},\n",
       "     'spFeat': 0,\n",
       "     'spVal': 0.373501},\n",
       "    'spFeat': 0,\n",
       "    'spVal': 0.455761},\n",
       "   'spFeat': 0,\n",
       "   'spVal': 0.463241},\n",
       "  'spFeat': 0,\n",
       "  'spVal': 0.467383},\n",
       " 'spFeat': 0,\n",
       " 'spVal': 0.499171}"
      ]
     },
     "execution_count": 11,
     "metadata": {},
     "output_type": "execute_result"
    }
   ],
   "source": [
    "testData=loadDataSet(r'D:\\DM\\python\\data\\MLiA_SourceCode\\machinelearninginaction\\Ch09\\ex2test.txt')\n",
    "prune(regTree3,testData)"
   ]
  },
  {
   "cell_type": "markdown",
   "metadata": {},
   "source": [
    "- **可以看到，虽然有6个叶节点被剪掉了，但仍然有很多叶节点保留->后剪枝可能不如预剪枝有效，因此一般为了寻求最佳模型，会同时使用两种剪枝技术**"
   ]
  },
  {
   "cell_type": "markdown",
   "metadata": {},
   "source": [
    "### 2.1 模型树的构建\n",
    "- 模型树的叶节点是一个线性回归模型：当前叶子所有样本的线性回归模型\n",
    "- 比回归树有更好的可解释性、更高的预测准确度\n",
    "- 误差衡量：类比线性回归误差，用线性模型对数据拟合，计算真实值与拟合值之差，求差值的平方和\n",
    "- 实现：通用函数，算法逻辑与createTree()一致，只需改变其中的叶节点计算方法leafType()和误差计算方法errType()"
   ]
  },
  {
   "cell_type": "code",
   "execution_count": 12,
   "metadata": {},
   "outputs": [],
   "source": [
    "#叶节点计算方法：该叶节点所有样本的标准线性回归模型，算法与linearRegression()一致\n",
    "def linearSolve(dataset):\n",
    "    m,n=shape(dataset)\n",
    "    X=mat(ones((m,n)));Y=mat(ones((m,1)))\n",
    "    X[:,1:n]=dataset[:,0:n-1] #X第一列为常数项1\n",
    "    Y=dataset[:,-1]\n",
    "    xTx=X.T*X\n",
    "    if linalg.det(xTx)==0.0:\n",
    "        raise NameError(\"矩阵为奇异矩阵，不可逆，尝试增大ops的第二个参数\")\n",
    "    ws=xTx.I*(X.T*Y)\n",
    "    return ws,X,Y\n",
    "\n",
    "def modelLeaf(dataset):\n",
    "    ws,X,Y=linearSolve(dataset)\n",
    "    return ws\n",
    "\n",
    "#误差计算方法：用线性模型对数据拟合，计算真实值与拟合值之差，求差值的平方和\n",
    "def modelErr(dataset):\n",
    "    ws,X,Y=linearSolve(dataset)\n",
    "    yPred=X*ws\n",
    "    return sum(power(Y-yPred,2))"
   ]
  },
  {
   "cell_type": "code",
   "execution_count": 13,
   "metadata": {},
   "outputs": [
    {
     "data": {
      "text/plain": [
       "{'left': matrix([[1.69855694e-03],\n",
       "         [1.19647739e+01]]), 'right': matrix([[3.46877936],\n",
       "         [1.18521743]]), 'spFeat': 0, 'spVal': 0.285477}"
      ]
     },
     "execution_count": 13,
     "metadata": {},
     "output_type": "execute_result"
    }
   ],
   "source": [
    "dataMat4=loadDataSet(r'D:\\DM\\python\\data\\MLiA_SourceCode\\machinelearninginaction\\Ch09\\exp2.txt')\n",
    "modelTree1=createTree(dataMat4,leafType=modelLeaf,errType=modelErr,ops=(1,10))\n",
    "modelTree1"
   ]
  },
  {
   "cell_type": "code",
   "execution_count": 14,
   "metadata": {},
   "outputs": [
    {
     "data": {
      "text/plain": [
       "0.285477"
      ]
     },
     "execution_count": 14,
     "metadata": {},
     "output_type": "execute_result"
    }
   ],
   "source": [
    "float(modelTree1['left'][0])\n",
    "float(modelTree1['spVal'])"
   ]
  },
  {
   "cell_type": "code",
   "execution_count": 15,
   "metadata": {},
   "outputs": [
    {
     "data": {
      "text/plain": [
       "<matplotlib.legend.Legend at 0x16a7b18b828>"
      ]
     },
     "execution_count": 15,
     "metadata": {},
     "output_type": "execute_result"
    },
    {
     "data": {
      "image/png": "[encoded data removed]",
      "text/plain": [
       "<matplotlib.figure.Figure at 0x16a7ae89c50>"
      ]
     },
     "metadata": {},
     "output_type": "display_data"
    }
   ],
   "source": [
    "fig=plt.figure(figsize=(8,6))\n",
    "x1=arange(0.0,float(modelTree1['spVal']),0.05)\n",
    "x2=arange(float(modelTree1['spVal']),1.0,0.05)\n",
    "ax1=fig.add_subplot(111)\n",
    "ax1.scatter(dataMat4[:,0].flatten().A[0],dataMat4[:,1].flatten().A[0],label='原始数据分布')\n",
    "ax1.plot(x2,float(modelTree1['left'][0])+float(modelTree1['left'][1])*x2,'r--',linewidth=5,label='模型树预测值')\n",
    "ax1.plot(x1,float(modelTree1['right'][0])+float(modelTree1['right'][1])*x1,'r--',linewidth=5)\n",
    "plt.title('modelTree1模型回归',fontsize=18)\n",
    "plt.legend()"
   ]
  },
  {
   "cell_type": "markdown",
   "metadata": {},
   "source": [
    "- 可以看到，模型树对数据的预测更准确合理"
   ]
  },
  {
   "cell_type": "markdown",
   "metadata": {},
   "source": [
    "### 2.2 模型树的剪枝\n",
    "- 预剪枝：增大tolN，切分的最少样本数，从而更客观地建模\n",
    "- 后剪枝：逻辑与回归树剪枝一致，只需更换其中的误差计算方式\n",
    "- **关键点：计算叶节点合并前后的误差，决定是否合并**\n",
    "    - 模型树，两个叶节点合并前的误差=((左叶子真实值-拟合值)的平方和+(右叶子真实值-拟合值)的平方和)\n",
    "    - 模型树，两个叶节点合并后的误差=(左右真实值-左右拟合值)的平方和\n",
    "    - 难点在于如何求左右拟合值，即求上层节点的回归系数wsMerge：用上层节点的traindata,通过linearSolve(traindata)求得，上层节点的traindata在lTrain,rTrain的递归中已经求好了"
   ]
  },
  {
   "cell_type": "code",
   "execution_count": 16,
   "metadata": {},
   "outputs": [],
   "source": [
    "#判断是否是一棵树(字典)\n",
    "def isTree(obj):\n",
    "    return (type(obj).__name__=='dict')\n",
    "\n",
    "#剪枝函数：对训练好的模型树，自上而下找到叶节点，用测试集来判断将这些叶节点合并是否能降低测试误差，若能则合并\n",
    "def modelPrune(tree,trainData,testData):\n",
    "    m,n=shape(testData)\n",
    "    #若无测试数据，则直接返回树所有叶节点的均值(塌陷处理)\n",
    "    if m==0:\n",
    "        return tree\n",
    "    #若存在任意子集是树，则将测试集按当前树的最佳切分特征和特征值切分(子集剪枝用)\n",
    "    #同时将训练集也按当前树的最佳切分特征和特征值切分(子集剪枝用)\n",
    "    if isTree(tree['left']) or isTree(tree['right']):\n",
    "        lSet,rSet=binSplitDataSet(testData,tree['spFeat'],tree['spVal'])\n",
    "        lTrain,rTrain=binSplitDataSet(trainData,tree['spFeat'],tree['spVal'])\n",
    "    #若存在任意子集是树，则该子集递归调用剪枝过程(利用刚才切分好的训练集)\n",
    "    if isTree(tree['left']):\n",
    "        tree['left']=modelPrune(tree['left'],lTrain,lSet)\n",
    "    if isTree(tree['right']):\n",
    "        tree['right']=modelPrune(tree['right'],rTrain,rSet)\n",
    "        \n",
    "    #若当前子集都是叶节点，则计算该二叶节点合并前后的误差，决定是否合并\n",
    "    \"\"\"\n",
    "    模型树，两个叶节点合并前的误差=((左叶子真实值-拟合值)的平方和+(右叶子真实值-拟合值)的平方和)\n",
    "    模型树，两个叶节点合并后的误差=(左右真实值-左右拟合值)的平方和\n",
    "    难点在于如何求左右拟合值，即求上层节点的回归系数wsMerge：用上层节点的traindata,通过linearSolve(traindata)求得\n",
    "    上层节点的traindata在lTrain,rTrain的递归中已经求好了\n",
    "    \"\"\"\n",
    "    if not isTree(tree['left']) and not isTree(tree['right']):\n",
    "        lSet,rSet=binSplitDataSet(testData,tree['spFeat'],tree['spVal'])\n",
    "        lSetX=mat(ones((shape(lSet)[0],n)));rSetX=mat(ones((shape(rSet)[0],n)))\n",
    "        lSetX[:,1:n]=lSet[:,0:n-1];rSetX[:,1:n]=rSet[:,0:n-1]\n",
    "        errNotMerge=sum(power(array(lSet[:,-1].T.tolist()[0])-lSetX*tree['left'],2))+sum(power(array(rSet[:,-1].T.tolist()[0])-rSetX*tree['right'],2))\n",
    "        #难点在于求上层节点的回归系数wsMerge：用上层节点的traindata,通过linearSolve(traindata)求得\n",
    "        wsMerge=modelLeaf(trainData)  \n",
    "        testDataX=mat(ones((m,n)));testDataX[:,1:n]=testData[:,0:n-1]\n",
    "        errMerge=sum(power(array(testData[:,-1].T.tolist()[0])-testDataX*wsMerge,2))\n",
    "        if errMerge<errNotMerge:\n",
    "            print(\"merging\")\n",
    "            return wsMerge\n",
    "        else:\n",
    "            return tree\n",
    "    else:\n",
    "        return tree"
   ]
  },
  {
   "cell_type": "markdown",
   "metadata": {},
   "source": [
    "**测试**"
   ]
  },
  {
   "cell_type": "code",
   "execution_count": 17,
   "metadata": {
    "scrolled": true
   },
   "outputs": [
    {
     "data": {
      "text/plain": [
       "{'left': {'left': {'left': matrix([[ 2035.77168176],\n",
       "           [-1989.88040521]]),\n",
       "   'right': {'left': {'left': {'left': {'left': {'left': matrix([[ 6875.11648133],\n",
       "                [-7093.53624684]]), 'right': {'left': matrix([[ 2937.06958112],\n",
       "                 [-3004.12770173]]),\n",
       "         'right': {'left': {'left': matrix([[142.46647789],\n",
       "                   [-55.62283074]]), 'right': matrix([[-542.61505052],\n",
       "                   [ 716.74345975]]), 'spFeat': 0, 'spVal': 0.910975},\n",
       "          'right': {'left': matrix([[ 1792.95369691],\n",
       "                   [-1912.59667504]]), 'right': matrix([[ 285.62456742],\n",
       "                   [-211.50479265]]), 'spFeat': 0, 'spVal': 0.872883},\n",
       "          'spFeat': 0,\n",
       "          'spVal': 0.892999},\n",
       "         'spFeat': 0,\n",
       "         'spVal': 0.936524}, 'spFeat': 0, 'spVal': 0.952377},\n",
       "       'right': matrix([[-802.25577817],\n",
       "               [1042.56744531]]),\n",
       "       'spFeat': 0,\n",
       "       'spVal': 0.85497},\n",
       "      'right': matrix([[-2328.32251621],\n",
       "              [ 2910.33864434]]),\n",
       "      'spFeat': 0,\n",
       "      'spVal': 0.841547},\n",
       "     'right': matrix([[-1630.19196113],\n",
       "             [ 2136.00177159]]),\n",
       "     'spFeat': 0,\n",
       "     'spVal': 0.815215},\n",
       "    'right': {'left': matrix([[-1556.7769285 ],\n",
       "             [ 2116.60415453]]), 'right': matrix([[-243.47141691],\n",
       "             [ 438.30611384]]), 'spFeat': 0, 'spVal': 0.763328},\n",
       "    'spFeat': 0,\n",
       "    'spVal': 0.790312},\n",
       "   'spFeat': 0,\n",
       "   'spVal': 0.956951},\n",
       "  'right': {'left': {'left': {'left': {'left': {'left': matrix([[ 563.59752799],\n",
       "               [-626.99452792]]), 'right': matrix([[-195.88865376],\n",
       "               [ 427.73571697]]), 'spFeat': 0, 'spVal': 0.706961},\n",
       "      'right': matrix([[-491.47216065],\n",
       "              [ 877.80931033]]),\n",
       "      'spFeat': 0,\n",
       "      'spVal': 0.698472},\n",
       "     'right': {'left': matrix([[-710.19676447],\n",
       "              [1244.317759  ]]), 'right': matrix([[-1878.49856509],\n",
       "              [ 3102.55795295]]), 'spFeat': 0, 'spVal': 0.642373},\n",
       "     'spFeat': 0,\n",
       "     'spVal': 0.666452},\n",
       "    'right': matrix([[-2702.11186032],\n",
       "            [ 4486.23755923]]),\n",
       "    'spFeat': 0,\n",
       "    'spVal': 0.628061},\n",
       "   'right': {'left': {'left': {'left': matrix([[-1178.17461527],\n",
       "              [ 2160.57174216]]), 'right': matrix([[-312.6437455 ],\n",
       "              [ 724.16481319]]), 'spFeat': 0, 'spVal': 0.585413},\n",
       "     'right': matrix([[-1048.84964878],\n",
       "             [ 2109.48506739]]),\n",
       "     'spFeat': 0,\n",
       "     'spVal': 0.553797},\n",
       "    'right': matrix([[-588.70277999],\n",
       "            [1346.28909828]]),\n",
       "    'spFeat': 0,\n",
       "    'spVal': 0.533511},\n",
       "   'spFeat': 0,\n",
       "   'spVal': 0.613004},\n",
       "  'spFeat': 0,\n",
       "  'spVal': 0.729397},\n",
       " 'right': {'left': {'left': {'left': matrix([[-53.23306686],\n",
       "            [134.30735937]]), 'right': matrix([[ 3170.52838349],\n",
       "            [-6804.13510215]]), 'spFeat': 0, 'spVal': 0.467383},\n",
       "   'right': {'left': {'left': matrix([[ 3033.72962183],\n",
       "             [-6682.96583243]]), 'right': matrix([[  629.46930608],\n",
       "             [-1438.43081901]]), 'spFeat': 0, 'spVal': 0.451087},\n",
       "    'right': matrix([[  690.77418098],\n",
       "            [-1732.63047307]]),\n",
       "    'spFeat': 0,\n",
       "    'spVal': 0.412516},\n",
       "   'spFeat': 0,\n",
       "   'spVal': 0.457563},\n",
       "  'right': {'left': {'left': matrix([[  701.82204221],\n",
       "            [-1868.98979012]]), 'right': {'left': matrix([[ 180.99082966],\n",
       "             [-571.12809177]]), 'right': matrix([[-965.18508238],\n",
       "             [2751.07849642]]), 'spFeat': 0, 'spVal': 0.350065}, 'spFeat': 0, 'spVal': 0.370042},\n",
       "   'right': {'left': matrix([[-870.38358534],\n",
       "            [2654.34320065]]),\n",
       "    'right': {'left': {'left': matrix([[-362.52063675],\n",
       "              [1186.75974135]]), 'right': {'left': matrix([[-440.15890638],\n",
       "               [1644.79480449]]),\n",
       "       'right': {'left': {'left': matrix([[  417.48124008],\n",
       "                 [-1825.39647572]]), 'right': matrix([[-188.13759885],\n",
       "                 [ 839.058043  ]]), 'spFeat': 0, 'spVal': 0.222271},\n",
       "        'right': {'left': matrix([[-101.50606923],\n",
       "                 [ 532.36972185]]), 'right': matrix([[-97.07590479],\n",
       "                 [646.24763534]]), 'spFeat': 0, 'spVal': 0.156273},\n",
       "        'spFeat': 0,\n",
       "        'spVal': 0.202161},\n",
       "       'spFeat': 0,\n",
       "       'spVal': 0.232802}, 'spFeat': 0, 'spVal': 0.284794},\n",
       "     'right': {'left': matrix([[-68.71703568],\n",
       "              [627.55917485]]), 'right': {'left': matrix([[  130.9142088 ],\n",
       "               [-1451.80356402]]), 'right': {'left': matrix([[   5.46563331],\n",
       "                [-197.27193285]]), 'right': matrix([[  6.00890616],\n",
       "                [-67.59733679]]), 'spFeat': 0, 'spVal': 0.044737}, 'spFeat': 0, 'spVal': 0.068373}, 'spFeat': 0, 'spVal': 0.085111},\n",
       "     'spFeat': 0,\n",
       "     'spVal': 0.126833},\n",
       "    'spFeat': 0,\n",
       "    'spVal': 0.309133},\n",
       "   'spFeat': 0,\n",
       "   'spVal': 0.335182},\n",
       "  'spFeat': 0,\n",
       "  'spVal': 0.382037},\n",
       " 'spFeat': 0,\n",
       " 'spVal': 0.499171}"
      ]
     },
     "execution_count": 17,
     "metadata": {},
     "output_type": "execute_result"
    }
   ],
   "source": [
    "dataMat5=loadDataSet(r'D:\\DM\\python\\data\\MLiA_SourceCode\\machinelearninginaction\\Ch09\\ex2.txt')\n",
    "testData5=loadDataSet(r'D:\\DM\\python\\data\\MLiA_SourceCode\\machinelearninginaction\\Ch09\\ex2test.txt')\n",
    "modelTree2=createTree(dataMat5,leafType=modelLeaf,errType=modelErr,ops=(1,4))\n",
    "modelTree2"
   ]
  },
  {
   "cell_type": "code",
   "execution_count": 18,
   "metadata": {
    "scrolled": true
   },
   "outputs": [
    {
     "name": "stdout",
     "output_type": "stream",
     "text": [
      "merging\n",
      "merging\n",
      "merging\n",
      "merging\n",
      "merging\n"
     ]
    },
    {
     "data": {
      "text/plain": [
       "{'left': {'left': {'left': matrix([[ 2035.77168176],\n",
       "           [-1989.88040521]]),\n",
       "   'right': {'left': {'left': {'left': {'left': {'left': matrix([[ 6875.11648133],\n",
       "                [-7093.53624684]]), 'right': {'left': matrix([[ 2937.06958112],\n",
       "                 [-3004.12770173]]),\n",
       "         'right': {'left': {'left': matrix([[142.46647789],\n",
       "                   [-55.62283074]]), 'right': matrix([[-542.61505052],\n",
       "                   [ 716.74345975]]), 'spFeat': 0, 'spVal': 0.910975},\n",
       "          'right': matrix([[ 443.18340441],\n",
       "                  [-392.62861558]]),\n",
       "          'spFeat': 0,\n",
       "          'spVal': 0.892999},\n",
       "         'spFeat': 0,\n",
       "         'spVal': 0.936524}, 'spFeat': 0, 'spVal': 0.952377},\n",
       "       'right': matrix([[-802.25577817],\n",
       "               [1042.56744531]]),\n",
       "       'spFeat': 0,\n",
       "       'spVal': 0.85497},\n",
       "      'right': matrix([[-2328.32251621],\n",
       "              [ 2910.33864434]]),\n",
       "      'spFeat': 0,\n",
       "      'spVal': 0.841547},\n",
       "     'right': matrix([[-1630.19196113],\n",
       "             [ 2136.00177159]]),\n",
       "     'spFeat': 0,\n",
       "     'spVal': 0.815215},\n",
       "    'right': {'left': matrix([[-1556.7769285 ],\n",
       "             [ 2116.60415453]]), 'right': matrix([[-243.47141691],\n",
       "             [ 438.30611384]]), 'spFeat': 0, 'spVal': 0.763328},\n",
       "    'spFeat': 0,\n",
       "    'spVal': 0.790312},\n",
       "   'spFeat': 0,\n",
       "   'spVal': 0.956951},\n",
       "  'right': {'left': {'left': {'left': {'left': {'left': matrix([[ 563.59752799],\n",
       "               [-626.99452792]]), 'right': matrix([[-195.88865376],\n",
       "               [ 427.73571697]]), 'spFeat': 0, 'spVal': 0.706961},\n",
       "      'right': matrix([[-491.47216065],\n",
       "              [ 877.80931033]]),\n",
       "      'spFeat': 0,\n",
       "      'spVal': 0.698472},\n",
       "     'right': {'left': matrix([[-710.19676447],\n",
       "              [1244.317759  ]]), 'right': matrix([[-1878.49856509],\n",
       "              [ 3102.55795295]]), 'spFeat': 0, 'spVal': 0.642373},\n",
       "     'spFeat': 0,\n",
       "     'spVal': 0.666452},\n",
       "    'right': matrix([[-2702.11186032],\n",
       "            [ 4486.23755923]]),\n",
       "    'spFeat': 0,\n",
       "    'spVal': 0.628061},\n",
       "   'right': {'left': {'left': {'left': matrix([[-1178.17461527],\n",
       "              [ 2160.57174216]]), 'right': matrix([[-312.6437455 ],\n",
       "              [ 724.16481319]]), 'spFeat': 0, 'spVal': 0.585413},\n",
       "     'right': matrix([[-1048.84964878],\n",
       "             [ 2109.48506739]]),\n",
       "     'spFeat': 0,\n",
       "     'spVal': 0.553797},\n",
       "    'right': matrix([[-588.70277999],\n",
       "            [1346.28909828]]),\n",
       "    'spFeat': 0,\n",
       "    'spVal': 0.533511},\n",
       "   'spFeat': 0,\n",
       "   'spVal': 0.613004},\n",
       "  'spFeat': 0,\n",
       "  'spVal': 0.729397},\n",
       " 'right': {'left': {'left': matrix([[-137.45965247],\n",
       "           [ 304.58397976]]), 'right': {'left': matrix([[  456.16602975],\n",
       "            [-1033.46583633]]), 'right': matrix([[  690.77418098],\n",
       "            [-1732.63047307]]), 'spFeat': 0, 'spVal': 0.412516}, 'spFeat': 0, 'spVal': 0.457563},\n",
       "  'right': {'left': matrix([[-146.85847178],\n",
       "           [ 365.55217094]]), 'right': {'left': matrix([[-870.38358534],\n",
       "            [2654.34320065]]),\n",
       "    'right': {'left': {'left': matrix([[-362.52063675],\n",
       "              [1186.75974135]]), 'right': {'left': matrix([[-440.15890638],\n",
       "               [1644.79480449]]),\n",
       "       'right': {'left': {'left': matrix([[  417.48124008],\n",
       "                 [-1825.39647572]]), 'right': matrix([[-188.13759885],\n",
       "                 [ 839.058043  ]]), 'spFeat': 0, 'spVal': 0.222271},\n",
       "        'right': {'left': matrix([[-101.50606923],\n",
       "                 [ 532.36972185]]), 'right': matrix([[-97.07590479],\n",
       "                 [646.24763534]]), 'spFeat': 0, 'spVal': 0.156273},\n",
       "        'spFeat': 0,\n",
       "        'spVal': 0.202161},\n",
       "       'spFeat': 0,\n",
       "       'spVal': 0.232802}, 'spFeat': 0, 'spVal': 0.284794},\n",
       "     'right': {'left': matrix([[-68.71703568],\n",
       "              [627.55917485]]), 'right': {'left': matrix([[  130.9142088 ],\n",
       "               [-1451.80356402]]), 'right': {'left': matrix([[   5.46563331],\n",
       "                [-197.27193285]]), 'right': matrix([[  6.00890616],\n",
       "                [-67.59733679]]), 'spFeat': 0, 'spVal': 0.044737}, 'spFeat': 0, 'spVal': 0.068373}, 'spFeat': 0, 'spVal': 0.085111},\n",
       "     'spFeat': 0,\n",
       "     'spVal': 0.126833},\n",
       "    'spFeat': 0,\n",
       "    'spVal': 0.309133}, 'spFeat': 0, 'spVal': 0.335182},\n",
       "  'spFeat': 0,\n",
       "  'spVal': 0.382037},\n",
       " 'spFeat': 0,\n",
       " 'spVal': 0.499171}"
      ]
     },
     "execution_count": 18,
     "metadata": {},
     "output_type": "execute_result"
    }
   ],
   "source": [
    "modelPrune(modelTree2,dataMat5,testData5)"
   ]
  },
  {
   "cell_type": "markdown",
   "metadata": {},
   "source": [
    "### 3 回归树/模型树的使用\n",
    "- 利用构建好的树预测测试集的值\n",
    "- 对比模型树、回归树、线性回归的预测结果的相关系数(相关系数的平方就是R2值)"
   ]
  },
  {
   "cell_type": "code",
   "execution_count": 19,
   "metadata": {},
   "outputs": [],
   "source": [
    "#对于回归树，返回叶节点(数值)作为预测值\n",
    "def regTreeEval(model,inData):\n",
    "    return float(model)\n",
    "\n",
    "#对于模型树，返回 数据*叶节点(回归系数矩阵) 作为预测值\n",
    "def modelTreeEval(model,inData):\n",
    "    n=shape(inData)[1];X=mat(ones((1,n+1)))\n",
    "    X[:,1:n+1]=inData\n",
    "    return float(X*model)\n",
    "\n",
    "#对一个数据，调用训练好的树预测其值\n",
    "def treePredictOne(tree,inData,modelEval=regTreeEval):\n",
    "    #若当前tree是叶节点，直接返回预测值\n",
    "    if not isTree(tree):\n",
    "        return modelEval(tree,inData)\n",
    "    #若当前tree不是叶节点，则判断inData属于当前节点的左子集还是右子集\n",
    "    if inData[tree['spFeat']]>tree['spVal']: #若属于左子集\n",
    "        if isTree(tree['left']):\n",
    "            return treePredictOne(tree['left'],inData,modelEval)\n",
    "        else:\n",
    "            return modelEval(tree['left'],inData)\n",
    "    else: #若属于右子集\n",
    "        if isTree(tree['right']):\n",
    "            return treePredictOne(tree['right'],inData,modelEval)\n",
    "        else:\n",
    "            return modelEval(tree['right'],inData)\n",
    "        \n",
    "#对一个数据集，多次调用treePredictOne()函数\n",
    "def treePredictAll(tree,testData,modelEval=regTreeEval):\n",
    "    m,n=shape(testData);yPred=mat(zeros((m,1)))\n",
    "    for i in range(m):\n",
    "        yPred[i,0]=treePredictOne(tree,testData[i,:n-1],modelEval)\n",
    "    return yPred"
   ]
  },
  {
   "cell_type": "markdown",
   "metadata": {},
   "source": [
    "**测试**"
   ]
  },
  {
   "cell_type": "code",
   "execution_count": 20,
   "metadata": {},
   "outputs": [],
   "source": [
    "trainMat=loadDataSet(r'D:\\DM\\python\\data\\MLiA_SourceCode\\machinelearninginaction\\Ch09\\bikeSpeedVsIq_train.txt')\n",
    "testMat=loadDataSet(r'D:\\DM\\python\\data\\MLiA_SourceCode\\machinelearninginaction\\Ch09\\bikeSpeedVsIq_test.txt')\n",
    "regTree4=createTree(trainMat,leafType=regLeaf,errType=regErr,ops=(1,20))\n",
    "modelTree4=createTree(trainMat,leafType=modelLeaf,errType=modelErr,ops=(1,20))"
   ]
  },
  {
   "cell_type": "code",
   "execution_count": 21,
   "metadata": {},
   "outputs": [
    {
     "data": {
      "text/plain": [
       "Text(0.5,1,'原始数据分布')"
      ]
     },
     "execution_count": 21,
     "metadata": {},
     "output_type": "execute_result"
    },
    {
     "data": {
      "image/png": "[encoded data removed]",
      "text/plain": [
       "<matplotlib.figure.Figure at 0x16a7b1aa518>"
      ]
     },
     "metadata": {},
     "output_type": "display_data"
    }
   ],
   "source": [
    "fig=plt.figure(figsize=(6,4))\n",
    "ax1=fig.add_subplot(111)\n",
    "ax1.scatter(trainMat[:,0].flatten().A[0],trainMat[:,1].flatten().A[0])\n",
    "plt.title('原始数据分布',fontsize=18)"
   ]
  },
  {
   "cell_type": "code",
   "execution_count": 22,
   "metadata": {
    "scrolled": true
   },
   "outputs": [
    {
     "name": "stdout",
     "output_type": "stream",
     "text": [
      "==================================================\n",
      "回归树应用于测试集的相关系数为：0.9587328585613937\n",
      "模型树应用于测试集的相关系数为：0.9760412191380593\n",
      "模型树应用于测试集的相关系数为：0.9434684235674762\n",
      "==================================================\n"
     ]
    }
   ],
   "source": [
    "Y_regTree4=treePredictAll(regTree4,testMat,modelEval=regTreeEval)\n",
    "Y_modelTree4=treePredictAll(modelTree4,testMat,modelEval=modelTreeEval)\n",
    "\n",
    "ws,X,Y=linearSolve(trainMat)\n",
    "Y_linearReg=mat(zeros((shape(testMat)[0],1)))\n",
    "for i in range(shape(testMat)[0]):\n",
    "    Y_linearReg[i,0]=modelTreeEval(ws,testMat[i,:(shape(testMat)[1]-1)])\n",
    "\n",
    "print ('='.center(50,'='))\n",
    "print ('回归树应用于测试集的相关系数为：{0}'.format(corrcoef(array(testMat[:,-1].T)[0],array(Y_regTree4.T)[0])[0,1]))\n",
    "print ('模型树应用于测试集的相关系数为：{0}'.format(corrcoef(array(testMat[:,-1].T)[0],array(Y_modelTree4.T)[0])[0,1]))\n",
    "print ('模型树应用于测试集的相关系数为：{0}'.format(corrcoef(array(testMat[:,-1].T)[0],array(Y_linearReg.T)[0])[0,1]))\n",
    "print ('='.center(50,'='))"
   ]
  },
  {
   "cell_type": "markdown",
   "metadata": {},
   "source": [
    "- 可以看到，这此数据集上，模型树表现比回归树好,线性回归表现最差\n",
    "- 说明树回归相比于线性回归，可以更好地处理复杂、非线性的数据集"
   ]
  },
  {
   "cell_type": "markdown",
   "metadata": {},
   "source": [
    "### 4. GUI交互--tkinter模块\n",
    "- 利用tkinter模块，与用户交互训练树回归模型，用模型预测测试集的值，并展示在图中\n",
    "- 交互形式：用户通过GUI界面输入参数，程序根据参数训练模型，并利用模型进行预测，然后将预测结果通过GUI显示在界面中"
   ]
  },
  {
   "cell_type": "code",
   "execution_count": 23,
   "metadata": {},
   "outputs": [],
   "source": [
    "from tkinter import *"
   ]
  },
  {
   "cell_type": "code",
   "execution_count": 422,
   "metadata": {},
   "outputs": [],
   "source": [
    "#test1\n",
    "top=tkinter.Tk()\n",
    "\n",
    "li=['DS','Genius']\n",
    "lista=tkinter.Listbox(top)\n",
    "for i in range(len(li)):\n",
    "    lista.insert(0,li[i])\n",
    "    \n",
    "B = tkinter.Button(top, text =\"点我\",activebackground='blue',activeforeground='yellow')\n",
    "L=tkinter.Label(top,text='网站名')\n",
    "E=tkinter.Entry(top,bd=5)\n",
    "\n",
    "lista.pack()\n",
    "B.pack()\n",
    "L.pack(side='left')\n",
    "E.pack(side='right')\n",
    "\n",
    "top.mainloop()"
   ]
  },
  {
   "cell_type": "code",
   "execution_count": 430,
   "metadata": {},
   "outputs": [
    {
     "name": "stdout",
     "output_type": "stream",
     "text": [
      "(True, 0)\n",
      "(False, 1)\n"
     ]
    }
   ],
   "source": [
    "#test2\n",
    "master = Tk()\n",
    "\n",
    "def var_states():\n",
    "    print((var1.get(),var2.get()))\n",
    "\n",
    "Label(master, text='Your sex:').grid(row=0,sticky=W)\n",
    "\n",
    "var1 = BooleanVar()\n",
    "Checkbutton(master, text='male', variable=var1).grid(row=1,sticky=W)\n",
    "\n",
    "var2 = IntVar()\n",
    "Checkbutton(master,text='female',variable=var2).grid(row=2,sticky=W)\n",
    "\n",
    "Button(master,text='Quit',command=master.quit).grid(row=3,sticky=W,pady=4)\n",
    "Button(master,text='Show',command=var_states).grid(row=4,sticky=W,pady=4)\n",
    "mainloop()"
   ]
  },
  {
   "attachments": {
    "image.png": {
     "image/png": "[encoded data removed]"
    }
   },
   "cell_type": "markdown",
   "metadata": {},
   "source": [
    "### 交互：树回归模型的训练和使用\n",
    "![image.png](attachment:image.png)"
   ]
  },
  {
   "cell_type": "code",
   "execution_count": 60,
   "metadata": {
    "scrolled": true
   },
   "outputs": [
    {
     "name": "stderr",
     "output_type": "stream",
     "text": [
      "E:\\ProgramData\\Anaconda3\\lib\\site-packages\\ipykernel_launcher.py:2: UserWarning: \n",
      "This call to matplotlib.use() has no effect because the backend has already\n",
      "been chosen; matplotlib.use() must be called *before* pylab, matplotlib.pyplot,\n",
      "or matplotlib.backends is imported for the first time.\n",
      "\n",
      "The backend was *originally* set to 'module://ipykernel.pylab.backend_inline' by the following code:\n",
      "  File \"E:\\ProgramData\\Anaconda3\\lib\\runpy.py\", line 193, in _run_module_as_main\n",
      "    \"__main__\", mod_spec)\n",
      "  File \"E:\\ProgramData\\Anaconda3\\lib\\runpy.py\", line 85, in _run_code\n",
      "    exec(code, run_globals)\n",
      "  File \"E:\\ProgramData\\Anaconda3\\lib\\site-packages\\ipykernel_launcher.py\", line 16, in <module>\n",
      "    app.launch_new_instance()\n",
      "  File \"E:\\ProgramData\\Anaconda3\\lib\\site-packages\\traitlets\\config\\application.py\", line 658, in launch_instance\n",
      "    app.start()\n",
      "  File \"E:\\ProgramData\\Anaconda3\\lib\\site-packages\\ipykernel\\kernelapp.py\", line 478, in start\n",
      "    self.io_loop.start()\n",
      "  File \"E:\\ProgramData\\Anaconda3\\lib\\site-packages\\zmq\\eventloop\\ioloop.py\", line 177, in start\n",
      "    super(ZMQIOLoop, self).start()\n",
      "  File \"E:\\ProgramData\\Anaconda3\\lib\\site-packages\\tornado\\ioloop.py\", line 888, in start\n",
      "    handler_func(fd_obj, events)\n",
      "  File \"E:\\ProgramData\\Anaconda3\\lib\\site-packages\\tornado\\stack_context.py\", line 277, in null_wrapper\n",
      "    return fn(*args, **kwargs)\n",
      "  File \"E:\\ProgramData\\Anaconda3\\lib\\site-packages\\zmq\\eventloop\\zmqstream.py\", line 440, in _handle_events\n",
      "    self._handle_recv()\n",
      "  File \"E:\\ProgramData\\Anaconda3\\lib\\site-packages\\zmq\\eventloop\\zmqstream.py\", line 472, in _handle_recv\n",
      "    self._run_callback(callback, msg)\n",
      "  File \"E:\\ProgramData\\Anaconda3\\lib\\site-packages\\zmq\\eventloop\\zmqstream.py\", line 414, in _run_callback\n",
      "    callback(*args, **kwargs)\n",
      "  File \"E:\\ProgramData\\Anaconda3\\lib\\site-packages\\tornado\\stack_context.py\", line 277, in null_wrapper\n",
      "    return fn(*args, **kwargs)\n",
      "  File \"E:\\ProgramData\\Anaconda3\\lib\\site-packages\\ipykernel\\kernelbase.py\", line 283, in dispatcher\n",
      "    return self.dispatch_shell(stream, msg)\n",
      "  File \"E:\\ProgramData\\Anaconda3\\lib\\site-packages\\ipykernel\\kernelbase.py\", line 233, in dispatch_shell\n",
      "    handler(stream, idents, msg)\n",
      "  File \"E:\\ProgramData\\Anaconda3\\lib\\site-packages\\ipykernel\\kernelbase.py\", line 399, in execute_request\n",
      "    user_expressions, allow_stdin)\n",
      "  File \"E:\\ProgramData\\Anaconda3\\lib\\site-packages\\ipykernel\\ipkernel.py\", line 208, in do_execute\n",
      "    res = shell.run_cell(code, store_history=store_history, silent=silent)\n",
      "  File \"E:\\ProgramData\\Anaconda3\\lib\\site-packages\\ipykernel\\zmqshell.py\", line 537, in run_cell\n",
      "    return super(ZMQInteractiveShell, self).run_cell(*args, **kwargs)\n",
      "  File \"E:\\ProgramData\\Anaconda3\\lib\\site-packages\\IPython\\core\\interactiveshell.py\", line 2739, in run_cell\n",
      "    self.events.trigger('post_run_cell')\n",
      "  File \"E:\\ProgramData\\Anaconda3\\lib\\site-packages\\IPython\\core\\events.py\", line 73, in trigger\n",
      "    func(*args, **kwargs)\n",
      "  File \"E:\\ProgramData\\Anaconda3\\lib\\site-packages\\ipykernel\\pylab\\backend_inline.py\", line 160, in configure_once\n",
      "    activate_matplotlib(backend)\n",
      "  File \"E:\\ProgramData\\Anaconda3\\lib\\site-packages\\IPython\\core\\pylabtools.py\", line 308, in activate_matplotlib\n",
      "    matplotlib.pyplot.switch_backend(backend)\n",
      "  File \"E:\\ProgramData\\Anaconda3\\lib\\site-packages\\matplotlib\\pyplot.py\", line 232, in switch_backend\n",
      "    matplotlib.use(newbackend, warn=False, force=True)\n",
      "  File \"E:\\ProgramData\\Anaconda3\\lib\\site-packages\\matplotlib\\__init__.py\", line 1305, in use\n",
      "    reload(sys.modules['matplotlib.backends'])\n",
      "  File \"E:\\ProgramData\\Anaconda3\\lib\\importlib\\__init__.py\", line 166, in reload\n",
      "    _bootstrap._exec(spec, module)\n",
      "  File \"E:\\ProgramData\\Anaconda3\\lib\\site-packages\\matplotlib\\backends\\__init__.py\", line 14, in <module>\n",
      "    line for line in traceback.format_stack()\n",
      "\n",
      "\n",
      "  \n"
     ]
    },
    {
     "name": "stdout",
     "output_type": "stream",
     "text": [
      "请在tolS框格输入小数\n",
      "请在tolS框格输入小数\n",
      "请在tolS框格输入小数\n",
      "请在tolS框格输入小数\n",
      "请在tolS框格输入小数\n",
      "请在tolS框格输入小数\n",
      "请在tolS框格输入小数\n",
      "请在tolS框格输入小数\n",
      "请在tolS框格输入小数\n",
      "请在tolS框格输入小数\n",
      "请在tolS框格输入小数\n",
      "请在tolS框格输入小数\n",
      "请在tolS框格输入小数\n",
      "请在tolS框格输入小数\n",
      "请在tolS框格输入小数\n",
      "请在tolS框格输入小数\n",
      "请在tolS框格输入小数\n"
     ]
    }
   ],
   "source": [
    "import matplotlib\n",
    "matplotlib.use('TkAgg') #将matplotlib后端设置为TKAgg\n",
    "from matplotlib.backends.backend_tkagg import FigureCanvasTkAgg\n",
    "from matplotlib.figure import Figure\n",
    "\n",
    "#获取用户在交互界面输入的参数\n",
    "def getInputs():\n",
    "    try:\n",
    "        tolN=int(tolNentry.get())\n",
    "    except:\n",
    "        tolN=10\n",
    "        print('请在tolN框格输入整数')\n",
    "        tolNentry.delete(0,END)\n",
    "        tolNentry.insert(0,'10')\n",
    "    try:\n",
    "        tolS=int(tolSentry.get())\n",
    "    except:\n",
    "        tolS=1.0\n",
    "        print('请在tolS框格输入小数')\n",
    "        tolSentry.delete(0,END)\n",
    "        tolSentry.insert(0,'1.0')\n",
    "    return tolS,tolN\n",
    "\n",
    "#根据用户设定的参数和选择的模型，训练模型预测数据并画图\n",
    "def reDraw(tolS,tolN):\n",
    "    reDraw.f.clf() #清空画布\n",
    "    reDraw.a=reDraw.f.add_subplot(111)\n",
    "    if chkBtnVar.get(): #若用户选择了Model Tree建模\n",
    "        myTree=createTree(reDraw.rawDat,leafType=modelLeaf,errType=modelErr,ops=(tolS,tolN))\n",
    "        yPred=treePredictAll(myTree,reDraw.testDat,modelEval=modelTreeEval)\n",
    "    else: #若用户选择了Regression Tree建模\n",
    "        myTree=createTree(reDraw.rawDat,ops=(tolS,tolN))\n",
    "        yPred=treePredictAll(myTree,reDraw.testDat)\n",
    "    reDraw.a.scatter(reDraw.rawDat.T.tolist()[0],reDraw.rawDat.T.tolist()[1],s=10)\n",
    "    reDraw.a.plot(reDraw.testDat.T.tolist()[0],yPred,linewidth=2.0,c='red')\n",
    "    reDraw.canvas.show()\n",
    "        \n",
    "#结合reDraw()，getInputs()函数：获取用户在交互界面输入的参数，根据用户设定的参数和选择的模型，训练模型预测数据并画图\n",
    "def drawNewTree():\n",
    "    tolS,tolN=getInputs()\n",
    "    reDraw(tolS,tolN)\n",
    "\n",
    "#利用以上三个自定义函数，完成交互界面\n",
    "root=Tk()\n",
    "\n",
    "#展示画布\n",
    "reDraw.f=Figure(figsize=(6,4),dpi=100)\n",
    "reDraw.canvas=FigureCanvasTkAgg(reDraw.f,master=root)\n",
    "reDraw.canvas.show()\n",
    "reDraw.canvas.get_tk_widget().grid(row=0,columnspan=3)\n",
    "\n",
    "#显示标签和按钮\n",
    "Label(root,text=\"树回归模型参数调整交互\").grid(row=1,column=0,columnspan=3)\n",
    "Label(root,text=\"tolN\").grid(row=2,column=0)\n",
    "tolNentry=Entry(root)\n",
    "tolNentry.grid(row=2,column=1)\n",
    "tolNentry.insert(0,'10')\n",
    "\n",
    "Label(root,text=\"tolS\").grid(row=3,column=0)\n",
    "tolSentry=Entry(root)\n",
    "tolSentry.grid(row=3,column=1)\n",
    "tolSentry.insert(0,'1.0')\n",
    "\n",
    "Button(root,text=\"ReDraw\",command=drawNewTree).grid(row=1,column=2,rowspan=4)\n",
    "\n",
    "#若用户选择该按钮，则返回1，否则返回0，通过chkBtnVar.get()得到返回的值\n",
    "chkBtnVar=IntVar() #设置为int变量\n",
    "chkBtn=Checkbutton(root,text='Use Model Tree',variable=chkBtnVar)\n",
    "chkBtn.grid(row=4,column=0,columnspan=2)\n",
    "\n",
    "#读取数据，调用自定义函数\n",
    "reDraw.rawDat=loadDataSet(r'D:\\DM\\python\\data\\MLiA_SourceCode\\machinelearninginaction\\Ch09\\sine.txt')\n",
    "testdataX=mat(arange(min(reDraw.rawDat[:,0]),max(reDraw.rawDat[:,0]),0.01)).T\n",
    "reDraw.testDat=mat(zeros((shape(testdataX)[0],shape(testdataX)[1]+1)))\n",
    "reDraw.testDat[:,:shape(testdataX)[1]]=testdataX\n",
    "reDraw(1.0,10)\n",
    "\n",
    "root.mainloop()"
   ]
  },
  {
   "cell_type": "code",
   "execution_count": null,
   "metadata": {},
   "outputs": [],
   "source": []
  }
 ],
 "metadata": {
  "kernelspec": {
   "display_name": "Python 3",
   "language": "python",
   "name": "python3"
  },
  "language_info": {
   "codemirror_mode": {
    "name": "ipython",
    "version": 3
   },
   "file_extension": ".py",
   "mimetype": "text/x-python",
   "name": "python",
   "nbconvert_exporter": "python",
   "pygments_lexer": "ipython3",
   "version": "3.6.4"
  }
 },
 "nbformat": 4,
 "nbformat_minor": 2
}
