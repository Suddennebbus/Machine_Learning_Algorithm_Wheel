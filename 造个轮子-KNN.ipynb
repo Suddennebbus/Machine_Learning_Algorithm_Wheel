{
 "cells": [
  {
   "cell_type": "markdown",
   "metadata": {},
   "source": [
    "## 二、KNN的自定义函数实现\n",
    "   - 算法实现： （小数据量，线性扫描）\n",
    "    - https://www.cnblogs.com/hemiy/p/6155425.html\n",
    "         1. 输入x与训练集各点的距离distance\n",
    "         2. 按distance排序，取distance最近的k个点（k为用户输入）\n",
    "         3. 对k个点的类归类计数，x归为多数类（多数表决）\n",
    "         4. or 对k个点按1/square(distance)权重归类计数，x归为计数大的类（加权表决）\n",
    "\n",
    "   - 对于大数据量，线性扫描效率极低，于是采用kd树储存训练集，通过搜索kd树的方法寻找输入的近邻，将输入归类（算法如何实现？自定义函数2）"
   ]
  },
  {
   "cell_type": "code",
   "execution_count": null,
   "metadata": {},
   "outputs": [],
   "source": [
    "import pandas as pd\n",
    "import numpy as np\n",
    "import operator"
   ]
  },
  {
   "cell_type": "markdown",
   "metadata": {},
   "source": [
    "### 自定义KNN分类器\n",
    " - newInput: 新输入的待分类数据(x_test)，**本分类器一次只能对一个新输入分类**\n",
    " - dataset：输入的训练数据集(x_train),array类型，**每一行为一个输入训练集**\n",
    " - labels：输入训练集对应的类别标签(y_train)，**格式为['A','B']而不是[['A'],['B']]**\n",
    " - k：近邻数\n",
    " - weight：决策规则，\"uniform\" 多数表决法，\"distance\" 距离加权表决法"
   ]
  },
  {
   "cell_type": "code",
   "execution_count": null,
   "metadata": {},
   "outputs": [],
   "source": [
    "# newInput: 新输入的待分类数据(x_test)，本分类器一次只能对一个新输入分类\n",
    "# dataset：输入的训练数据集(x_train),array类型，每一行为一个输入训练集\n",
    "# labels：输入训练集对应的类别标签(y_train)，格式为['A','B']而不是[['A'],['B']]\n",
    "# k：近邻数\n",
    "# weight：决策规则，\"uniform\" 多数表决法，\"distance\" 距离加权表决法\n",
    "\n",
    "def KNNClassify(newInput, dataset, labels, k, weight):\n",
    "    numSamples=dataset.shape[0]\n",
    "    \n",
    "    \"\"\"step1: 计算待分类数据与训练集各数据点的距离（欧氏距离：距离差值平方和开根号）\"\"\"\n",
    "    diff=np.tile(newInput,(numSamples,1)) - dataset # 凸显numpy数组的高效性——元素级的运算\n",
    "    squaredist=diff**2\n",
    "    distance = (squaredist.sum(axis=1))**0.5 # axis=1,按行累加\n",
    "    \n",
    "    \"\"\"step2：将距离按升序排序，并取距离最近的k个近邻点\"\"\"\n",
    "    # 对数组distance按升序排序，返回数组排序后的值对应的索引值\n",
    "    sortedDistance=distance.argsort() \n",
    "    \n",
    "    # 定义一个空字典，存放k个近邻点的分类计数\n",
    "    classCount={}\n",
    "    \n",
    "    # 对k个近邻点分类计数，多数表决法\n",
    "    for i in range(k):\n",
    "        # 第i个近邻点在distance数组中的索引,对应的分类\n",
    "        votelabel=labels[sortedDistance[i]]\n",
    "        if weight==\"uniform\":\n",
    "            # votelabel作为字典的key，对相同的key值累加（多数表决法）\n",
    "            classCount[votelabel]=classCount.get(votelabel,0)+1 \n",
    "        elif weight==\"distance\":\n",
    "            # 对相同的key值按距离加权累加（加权表决法）\n",
    "            classCount[votelabel]=classCount.get(votelabel,0)+(1/distance[sortedDistance[i]])\n",
    "        else:\n",
    "            print (\"分类决策规则错误！\")\n",
    "            print (\"\\\"uniform\\\"多数表决法\\\"distance\\\"距离加权表决法\")\n",
    "            break \n",
    "            \n",
    "    # 对k个近邻点的分类计数按降序排序，返回得票数最多的分类结果\n",
    "    sortedClassCount=sorted(classCount.items(),key=operator.itemgetter(1),reverse=True)\n",
    "    if weight==\"uniform\":\n",
    "        print (\"新输入到训练集的最近%d个点的计数为：\"%k,\"\\n\",classCount)\n",
    "        print (\"新输入的类别是:\", sortedClassCount[0][0])\n",
    "    \n",
    "    elif weight==\"distance\":\n",
    "        print (\"新输入到训练集的最近%d个点的距离加权计数为：\"%k,\"\\n\",classCount)\n",
    "        print (\"新输入的类别是:\", sortedClassCount[0][0])\n",
    "    \n",
    "    return sortedClassCount[0][0]"
   ]
  },
  {
   "cell_type": "markdown",
   "metadata": {},
   "source": [
    "#### 鸢尾花数据集分类测试"
   ]
  },
  {
   "cell_type": "code",
   "execution_count": null,
   "metadata": {},
   "outputs": [
    {
     "data": {
      "text/html": [
       "<div>\n",
       "<style scoped>\n",
       "    .dataframe tbody tr th:only-of-type {\n",
       "        vertical-align: middle;\n",
       "    }\n",
       "\n",
       "    .dataframe tbody tr th {\n",
       "        vertical-align: top;\n",
       "    }\n",
       "\n",
       "    .dataframe thead th {\n",
       "        text-align: right;\n",
       "    }\n",
       "</style>\n",
       "<table border=\"1\" class=\"dataframe\">\n",
       "  <thead>\n",
       "    <tr style=\"text-align: right;\">\n",
       "      <th></th>\n",
       "      <th>sepallength</th>\n",
       "      <th>sepalwidth</th>\n",
       "      <th>petallength</th>\n",
       "      <th>petalwidth</th>\n",
       "      <th>species</th>\n",
       "    </tr>\n",
       "  </thead>\n",
       "  <tbody>\n",
       "    <tr>\n",
       "      <th>0</th>\n",
       "      <td>5.1</td>\n",
       "      <td>3.5</td>\n",
       "      <td>1.4</td>\n",
       "      <td>0.2</td>\n",
       "      <td>Iris-setosa</td>\n",
       "    </tr>\n",
       "    <tr>\n",
       "      <th>1</th>\n",
       "      <td>4.9</td>\n",
       "      <td>3.0</td>\n",
       "      <td>1.4</td>\n",
       "      <td>0.2</td>\n",
       "      <td>Iris-setosa</td>\n",
       "    </tr>\n",
       "    <tr>\n",
       "      <th>2</th>\n",
       "      <td>4.7</td>\n",
       "      <td>3.2</td>\n",
       "      <td>1.3</td>\n",
       "      <td>0.2</td>\n",
       "      <td>Iris-setosa</td>\n",
       "    </tr>\n",
       "    <tr>\n",
       "      <th>3</th>\n",
       "      <td>4.6</td>\n",
       "      <td>3.1</td>\n",
       "      <td>1.5</td>\n",
       "      <td>0.2</td>\n",
       "      <td>Iris-setosa</td>\n",
       "    </tr>\n",
       "    <tr>\n",
       "      <th>4</th>\n",
       "      <td>5.0</td>\n",
       "      <td>3.6</td>\n",
       "      <td>1.4</td>\n",
       "      <td>0.2</td>\n",
       "      <td>Iris-setosa</td>\n",
       "    </tr>\n",
       "  </tbody>\n",
       "</table>\n",
       "</div>"
      ],
      "text/plain": [
       "   sepallength  sepalwidth  petallength  petalwidth      species\n",
       "0          5.1         3.5          1.4         0.2  Iris-setosa\n",
       "1          4.9         3.0          1.4         0.2  Iris-setosa\n",
       "2          4.7         3.2          1.3         0.2  Iris-setosa\n",
       "3          4.6         3.1          1.5         0.2  Iris-setosa\n",
       "4          5.0         3.6          1.4         0.2  Iris-setosa"
      ]
     },
     "execution_count": 137,
     "metadata": {},
     "output_type": "execute_result"
    }
   ],
   "source": [
    "iris=pd.read_csv(\"E:\\python\\practice\\iris.txt\")\n",
    "iris.head()"
   ]
  },
  {
   "cell_type": "markdown",
   "metadata": {},
   "source": [
    "### 建立训练集、测试集\n",
    "  - 注意训练集x、y的格式"
   ]
  },
  {
   "cell_type": "code",
   "execution_count": null,
   "metadata": {},
   "outputs": [
    {
     "name": "stdout",
     "output_type": "stream",
     "text": [
      "[5.1 3.8 1.5 0.3]\n",
      "['Iris-setosa']\n"
     ]
    },
    {
     "data": {
      "text/plain": [
       "array(['Iris-virginica', 'Iris-versicolor', 'Iris-setosa',\n",
       "       'Iris-versicolor', 'Iris-virginica', 'Iris-setosa',\n",
       "       'Iris-versicolor', 'Iris-versicolor', 'Iris-setosa',\n",
       "       'Iris-versicolor', 'Iris-versicolor', 'Iris-versicolor',\n",
       "       'Iris-setosa', 'Iris-virginica', 'Iris-setosa', 'Iris-versicolor',\n",
       "       'Iris-virginica', 'Iris-virginica', 'Iris-setosa', 'Iris-setosa',\n",
       "       'Iris-versicolor', 'Iris-virginica', 'Iris-versicolor',\n",
       "       'Iris-virginica', 'Iris-virginica', 'Iris-virginica',\n",
       "       'Iris-versicolor', 'Iris-versicolor', 'Iris-virginica',\n",
       "       'Iris-virginica', 'Iris-virginica', 'Iris-versicolor',\n",
       "       'Iris-setosa', 'Iris-virginica', 'Iris-versicolor', 'Iris-setosa',\n",
       "       'Iris-setosa', 'Iris-setosa', 'Iris-setosa', 'Iris-virginica',\n",
       "       'Iris-virginica', 'Iris-versicolor', 'Iris-virginica',\n",
       "       'Iris-virginica', 'Iris-versicolor', 'Iris-setosa',\n",
       "       'Iris-versicolor', 'Iris-versicolor', 'Iris-virginica',\n",
       "       'Iris-setosa', 'Iris-setosa', 'Iris-setosa', 'Iris-virginica',\n",
       "       'Iris-setosa', 'Iris-virginica', 'Iris-versicolor',\n",
       "       'Iris-versicolor', 'Iris-versicolor', 'Iris-setosa', 'Iris-setosa',\n",
       "       'Iris-setosa', 'Iris-versicolor', 'Iris-virginica',\n",
       "       'Iris-versicolor', 'Iris-versicolor', 'Iris-setosa',\n",
       "       'Iris-virginica', 'Iris-setosa', 'Iris-setosa', 'Iris-virginica',\n",
       "       'Iris-virginica', 'Iris-setosa', 'Iris-virginica', 'Iris-setosa',\n",
       "       'Iris-versicolor', 'Iris-virginica', 'Iris-versicolor',\n",
       "       'Iris-setosa', 'Iris-versicolor', 'Iris-setosa', 'Iris-virginica',\n",
       "       'Iris-virginica', 'Iris-versicolor', 'Iris-setosa', 'Iris-setosa',\n",
       "       'Iris-versicolor', 'Iris-virginica', 'Iris-setosa',\n",
       "       'Iris-virginica', 'Iris-virginica', 'Iris-versicolor',\n",
       "       'Iris-setosa', 'Iris-versicolor', 'Iris-setosa', 'Iris-virginica',\n",
       "       'Iris-virginica', 'Iris-setosa', 'Iris-setosa', 'Iris-virginica',\n",
       "       'Iris-versicolor', 'Iris-virginica', 'Iris-virginica',\n",
       "       'Iris-versicolor', 'Iris-setosa', 'Iris-setosa', 'Iris-virginica',\n",
       "       'Iris-setosa', 'Iris-setosa', 'Iris-versicolor', 'Iris-virginica',\n",
       "       'Iris-virginica', 'Iris-versicolor', 'Iris-versicolor',\n",
       "       'Iris-setosa', 'Iris-virginica', 'Iris-setosa', 'Iris-setosa',\n",
       "       'Iris-versicolor', 'Iris-versicolor', 'Iris-virginica',\n",
       "       'Iris-setosa', 'Iris-versicolor', 'Iris-versicolor',\n",
       "       'Iris-virginica', 'Iris-virginica', 'Iris-versicolor',\n",
       "       'Iris-virginica', 'Iris-setosa', 'Iris-versicolor',\n",
       "       'Iris-versicolor'], dtype=object)"
      ]
     },
     "execution_count": 138,
     "metadata": {},
     "output_type": "execute_result"
    }
   ],
   "source": [
    "iris_x=iris.iloc[:,[0,1,2,3]]\n",
    "iris_y=iris.iloc[:,[4]]\n",
    "\n",
    "np.random.seed(7)\n",
    "indices=np.random.permutation(len(iris_x))\n",
    "\n",
    "iris_x_train=iris_x.iloc[indices[0:130]]\n",
    "iris_y_train=iris_y.iloc[indices[0:130]]\n",
    "\n",
    "iris_x_test=iris_x.iloc[indices[130:150]]\n",
    "iris_y_test=iris_y.iloc[indices[130:150]]\n",
    "\n",
    "# 将dataframe格式的数据转换为numpy array格式，便于调用函数计算\n",
    "iris_x_train=np.array(iris_x_train)\n",
    "iris_y_train=np.array(iris_y_train)\n",
    "\n",
    "iris_x_test=np.array(iris_x_test)\n",
    "iris_y_test=np.array(iris_y_test) \n",
    "\n",
    "print (iris_x_test[1])\n",
    "print (iris_y_test[1])\n",
    "\n",
    "\"\"\"运行错误测试：\n",
    "dis=(((np.tile(iris_x_test[1],(130,1))-iris_x_train)**2).sum(axis=1))**0.5\n",
    "sortdis=dis.argsort()\n",
    "cc={}\n",
    "for i in range(10):\n",
    "    votel=iris_y_train[sortdis[i]]\n",
    "    cc[votel]=cc.get(votel,0)+1\n",
    "\n",
    "sortedcc=sorted(cc,key=operator.itemgetter(1),reversed=True)\n",
    "sortedcc[0][0]\"\"\"\n",
    "\n",
    "# 将labels的形状设置为(130,)\n",
    "iris_y_train.shape=(130,)\n",
    "iris_y_train"
   ]
  },
  {
   "cell_type": "markdown",
   "metadata": {},
   "source": [
    "### 将训练集、测试集带入自定义KNN分类器进行分类"
   ]
  },
  {
   "cell_type": "code",
   "execution_count": 139,
   "metadata": {},
   "outputs": [
    {
     "name": "stdout",
     "output_type": "stream",
     "text": [
      "新输入到训练集的最近20个点的距离加权计数为： \n",
      " {'Iris-versicolor': 45.596003202769246}\n",
      "新输入的类别是: Iris-versicolor\n",
      "Iris-versicolor\n",
      "新输入的实际类别是： ['Iris-versicolor']\n",
      "\n",
      "\n",
      "预测准确!\n"
     ]
    }
   ],
   "source": [
    "# 将训练集、测试集带入自定义KNN分类器进行分类\n",
    "test_index=12\n",
    "predict=KNNClassify(iris_x_test[test_index],iris_x_train,iris_y_train,20,\"distance\")\n",
    "print (predict)\n",
    "print (\"新输入的实际类别是：\", iris_y_test[test_index])\n",
    "print (\"\\n\")\n",
    "\n",
    "if predict==iris_y_test[test_index]:\n",
    "    print (\"预测准确!\")\n",
    "else:\n",
    "    print (\"预测错误！\")"
   ]
  },
  {
   "cell_type": "markdown",
   "metadata": {},
   "source": [
    "#### 另一组简单的测试数据分类"
   ]
  },
  {
   "cell_type": "code",
   "execution_count": 140,
   "metadata": {},
   "outputs": [
    {
     "name": "stdout",
     "output_type": "stream",
     "text": [
      "新输入到训练集的最近4个点的距离加权计数为： \n",
      " {'A': 9.472135954999581, 'B': 1.4018812887604746}\n",
      "新输入的类别是: A\n"
     ]
    },
    {
     "data": {
      "text/plain": [
       "'A'"
      ]
     },
     "execution_count": 140,
     "metadata": {},
     "output_type": "execute_result"
    }
   ],
   "source": [
    "# 另一组简单的测试数据分类\n",
    "group = np.array([[1.0, 0.9], [1.0, 1.0], [0.1, 0.2], [0.0, 0.1]])\n",
    "labels = np.array(['A', 'A', 'B', 'B'])\n",
    "testX = np.array([1.2, 1.0])\n",
    "\n",
    "KNNClassify(testX,group,labels,4,\"distance\")"
   ]
  },
  {
   "cell_type": "code",
   "execution_count": 141,
   "metadata": {},
   "outputs": [
    {
     "data": {
      "text/plain": [
       "(4,)"
      ]
     },
     "execution_count": 141,
     "metadata": {},
     "output_type": "execute_result"
    }
   ],
   "source": [
    "labels = np.array(['A', 'A', 'B', 'B'])\n",
    "labels.shape"
   ]
  },
  {
   "cell_type": "code",
   "execution_count": 142,
   "metadata": {},
   "outputs": [
    {
     "data": {
      "text/plain": [
       "(130,)"
      ]
     },
     "execution_count": 142,
     "metadata": {},
     "output_type": "execute_result"
    }
   ],
   "source": [
    "iris_y_train.shape"
   ]
  }
 ],
 "metadata": {
  "kernelspec": {
   "display_name": "Python 3",
   "language": "python",
   "name": "python3"
  },
  "language_info": {
   "codemirror_mode": {
    "name": "ipython",
    "version": 3
   },
   "file_extension": ".py",
   "mimetype": "text/x-python",
   "name": "python",
   "nbconvert_exporter": "python",
   "pygments_lexer": "ipython3",
   "version": "3.6.4"
  }
 },
 "nbformat": 4,
 "nbformat_minor": 2
}
